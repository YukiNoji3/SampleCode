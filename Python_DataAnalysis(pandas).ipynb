{
  "nbformat": 4,
  "nbformat_minor": 0,
  "metadata": {
    "colab": {
      "name": "Python_DataAnalysis(pandas).ipynb",
      "provenance": [],
      "collapsed_sections": [],
      "toc_visible": true,
      "mount_file_id": "1Megflb_ed0A0ULixFJ7u6vpqGvIDMSoR",
      "authorship_tag": "ABX9TyOyrXv6kUfaqFZc64sXId9H",
      "include_colab_link": true
    },
    "kernelspec": {
      "name": "python3",
      "display_name": "Python 3"
    }
  },
  "cells": [
    {
      "cell_type": "markdown",
      "metadata": {
        "id": "view-in-github",
        "colab_type": "text"
      },
      "source": [
        "<a href=\"https://colab.research.google.com/github/YukiNoji3/SampleCode/blob/master/Python_DataAnalysis(pandas).ipynb\" target=\"_parent\"><img src=\"https://colab.research.google.com/assets/colab-badge.svg\" alt=\"Open In Colab\"/></a>"
      ]
    },
    {
      "cell_type": "markdown",
      "metadata": {
        "id": "WYR3eQ_syJNf",
        "colab_type": "text"
      },
      "source": [
        "4.2**.1** pandasの概要"
      ]
    },
    {
      "cell_type": "code",
      "metadata": {
        "id": "J1hjGzGgyOdc",
        "colab_type": "code",
        "colab": {}
      },
      "source": [
        "import pandas as pd"
      ],
      "execution_count": 0,
      "outputs": []
    },
    {
      "cell_type": "code",
      "metadata": {
        "id": "GTTVZtyzyXHT",
        "colab_type": "code",
        "colab": {}
      },
      "source": [
        "ser = pd.Series([10, 20, 30, 40])\n",
        "ser"
      ],
      "execution_count": 0,
      "outputs": []
    },
    {
      "cell_type": "code",
      "metadata": {
        "id": "0suZS_gEynCl",
        "colab_type": "code",
        "colab": {}
      },
      "source": [
        "df = pd.DataFrame([[10, 'a', True],\n",
        "                  [20, 'b', False],\n",
        "                  [30, 'c', False],\n",
        "                  [40, 'd', True]])\n",
        "df"
      ],
      "execution_count": 0,
      "outputs": []
    },
    {
      "cell_type": "code",
      "metadata": {
        "id": "-c9Vm0P2EZ2U",
        "colab_type": "code",
        "colab": {}
      },
      "source": [
        "import numpy as np\n",
        "df = pd.DataFrame(np.arange(100).reshape((25, 4)))"
      ],
      "execution_count": 0,
      "outputs": []
    },
    {
      "cell_type": "code",
      "metadata": {
        "id": "xemFUAFEEyDz",
        "colab_type": "code",
        "colab": {}
      },
      "source": [
        "df"
      ],
      "execution_count": 0,
      "outputs": []
    },
    {
      "cell_type": "code",
      "metadata": {
        "id": "ee2AwAGmEzUK",
        "colab_type": "code",
        "colab": {}
      },
      "source": [
        "df.head"
      ],
      "execution_count": 0,
      "outputs": []
    },
    {
      "cell_type": "code",
      "metadata": {
        "id": "V3B_bJFeE04c",
        "colab_type": "code",
        "colab": {}
      },
      "source": [
        "df.tail"
      ],
      "execution_count": 0,
      "outputs": []
    },
    {
      "cell_type": "code",
      "metadata": {
        "id": "5FwG586wE3Vu",
        "colab_type": "code",
        "colab": {}
      },
      "source": [
        "df.shape"
      ],
      "execution_count": 0,
      "outputs": []
    },
    {
      "cell_type": "code",
      "metadata": {
        "id": "dvjkZrU1E4pC",
        "colab_type": "code",
        "colab": {}
      },
      "source": [
        "df = pd.DataFrame(np.arange(6).reshape((3, 2)))\n",
        "df"
      ],
      "execution_count": 0,
      "outputs": []
    },
    {
      "cell_type": "code",
      "metadata": {
        "id": "L6_9eWXnE-gM",
        "colab_type": "code",
        "colab": {}
      },
      "source": [
        "df.index = ['01', '02', '03']\n",
        "df.columns = ['A', 'B']"
      ],
      "execution_count": 0,
      "outputs": []
    },
    {
      "cell_type": "code",
      "metadata": {
        "id": "aD7eqzw9FL52",
        "colab_type": "code",
        "colab": {}
      },
      "source": [
        "df"
      ],
      "execution_count": 0,
      "outputs": []
    },
    {
      "cell_type": "code",
      "metadata": {
        "id": "2O4Bh-UrFMtp",
        "colab_type": "code",
        "colab": {}
      },
      "source": [
        "named_df = pd.DataFrame(np.arange(6).reshape((3, 2)),\n",
        "                        columns=['A列', 'B列'],\n",
        "                        index=['1行目', '2行目', '3行目'])"
      ],
      "execution_count": 0,
      "outputs": []
    },
    {
      "cell_type": "code",
      "metadata": {
        "id": "lrctK4f9Foc7",
        "colab_type": "code",
        "colab": {}
      },
      "source": [
        "named_df"
      ],
      "execution_count": 0,
      "outputs": []
    },
    {
      "cell_type": "code",
      "metadata": {
        "id": "VIHXk3t_Fpjv",
        "colab_type": "code",
        "colab": {}
      },
      "source": [
        "pd.DataFrame({'A列':[0, 2, 4], 'B列':[1, 3, 5]})"
      ],
      "execution_count": 0,
      "outputs": []
    },
    {
      "cell_type": "code",
      "metadata": {
        "id": "mD56cn9oGAM8",
        "colab_type": "code",
        "colab": {}
      },
      "source": [
        "import numpy as np\n",
        "import pandas as pd\n",
        "df = pd.DataFrame(np.arange(12).reshape((4, 3)),\n",
        "        columns=['A', 'B', 'C'],\n",
        "        index=['1行目', '2行目', '3行目', '4行目'])\n",
        "df"
      ],
      "execution_count": 0,
      "outputs": []
    },
    {
      "cell_type": "code",
      "metadata": {
        "id": "zT0u90tCGibO",
        "colab_type": "code",
        "colab": {}
      },
      "source": [
        "df['A']"
      ],
      "execution_count": 0,
      "outputs": []
    },
    {
      "cell_type": "code",
      "metadata": {
        "id": "Nh7Xhlgam0Ex",
        "colab_type": "code",
        "colab": {}
      },
      "source": [
        "df[['A', 'B']]"
      ],
      "execution_count": 0,
      "outputs": []
    },
    {
      "cell_type": "code",
      "metadata": {
        "id": "xtW3MX9dnCiK",
        "colab_type": "code",
        "colab": {}
      },
      "source": [
        "df[:2]"
      ],
      "execution_count": 0,
      "outputs": []
    },
    {
      "cell_type": "code",
      "metadata": {
        "id": "psGEZYIgnSZI",
        "colab_type": "code",
        "colab": {}
      },
      "source": [
        "df.loc[:, :]"
      ],
      "execution_count": 0,
      "outputs": []
    },
    {
      "cell_type": "code",
      "metadata": {
        "id": "DtYq2IQenUv8",
        "colab_type": "code",
        "colab": {}
      },
      "source": [
        "df.loc[:, 'A']"
      ],
      "execution_count": 0,
      "outputs": []
    },
    {
      "cell_type": "code",
      "metadata": {
        "id": "xOJQZjUunYsR",
        "colab_type": "code",
        "colab": {}
      },
      "source": [
        "df.loc[:, ['A', 'B']]"
      ],
      "execution_count": 0,
      "outputs": []
    },
    {
      "cell_type": "code",
      "metadata": {
        "id": "FE6c79LAppzR",
        "colab_type": "code",
        "colab": {}
      },
      "source": [
        "df.loc['1行目', :]"
      ],
      "execution_count": 0,
      "outputs": []
    },
    {
      "cell_type": "code",
      "metadata": {
        "id": "lP_2GnpOpuS5",
        "colab_type": "code",
        "colab": {}
      },
      "source": [
        "df.loc[['1行目', '3行目'], :]"
      ],
      "execution_count": 0,
      "outputs": []
    },
    {
      "cell_type": "code",
      "metadata": {
        "id": "S-Y030alqAC5",
        "colab_type": "code",
        "colab": {}
      },
      "source": [
        "df.loc[['1行目'],['A', 'C']]"
      ],
      "execution_count": 0,
      "outputs": []
    },
    {
      "cell_type": "code",
      "metadata": {
        "id": "ulyr-N7NqNgn",
        "colab_type": "code",
        "colab": {}
      },
      "source": [
        "df.iloc[1, 1]"
      ],
      "execution_count": 0,
      "outputs": []
    },
    {
      "cell_type": "code",
      "metadata": {
        "id": "0mzUw-LDqWtg",
        "colab_type": "code",
        "colab": {}
      },
      "source": [
        "df.iloc[1:, 1]"
      ],
      "execution_count": 0,
      "outputs": []
    },
    {
      "cell_type": "code",
      "metadata": {
        "id": "Jy9u3hkGqbNG",
        "colab_type": "code",
        "colab": {}
      },
      "source": [
        "df.iloc[1:, :2]"
      ],
      "execution_count": 0,
      "outputs": []
    },
    {
      "cell_type": "markdown",
      "metadata": {
        "id": "IPpgHr1EqxqZ",
        "colab_type": "text"
      },
      "source": [
        "4.2.2 **データの読み込み・書き込み**"
      ]
    },
    {
      "cell_type": "code",
      "metadata": {
        "id": "hO5RqKg5sZjM",
        "colab_type": "code",
        "outputId": "f2e05898-9e36-4b4b-f18e-e5eb652897f9",
        "colab": {
          "base_uri": "https://localhost:8080/",
          "height": 317
        }
      },
      "source": [
        "# show upload dialog\n",
        "from google.colab import files\n",
        "uploaded = files.upload()"
      ],
      "execution_count": 95,
      "outputs": [
        {
          "output_type": "error",
          "ename": "TypeError",
          "evalue": "ignored",
          "traceback": [
            "\u001b[0;31m---------------------------------------------------------------------------\u001b[0m",
            "\u001b[0;31mTypeError\u001b[0m                                 Traceback (most recent call last)",
            "\u001b[0;32m<ipython-input-95-21dc3c638f66>\u001b[0m in \u001b[0;36m<module>\u001b[0;34m()\u001b[0m\n\u001b[1;32m      1\u001b[0m \u001b[0;32mfrom\u001b[0m \u001b[0mgoogle\u001b[0m\u001b[0;34m.\u001b[0m\u001b[0mcolab\u001b[0m \u001b[0;32mimport\u001b[0m \u001b[0mfiles\u001b[0m\u001b[0;34m\u001b[0m\u001b[0;34m\u001b[0m\u001b[0m\n\u001b[0;32m----> 2\u001b[0;31m \u001b[0muploaded\u001b[0m \u001b[0;34m=\u001b[0m \u001b[0mfiles\u001b[0m\u001b[0;34m.\u001b[0m\u001b[0mupload\u001b[0m\u001b[0;34m(\u001b[0m\u001b[0;34m)\u001b[0m\u001b[0;34m\u001b[0m\u001b[0;34m\u001b[0m\u001b[0m\n\u001b[0m",
            "\u001b[0;32m/usr/local/lib/python3.6/dist-packages/google/colab/files.py\u001b[0m in \u001b[0;36mupload\u001b[0;34m()\u001b[0m\n\u001b[1;32m     67\u001b[0m   \u001b[0mlocal_filenames\u001b[0m \u001b[0;34m=\u001b[0m \u001b[0mdict\u001b[0m\u001b[0;34m(\u001b[0m\u001b[0;34m)\u001b[0m\u001b[0;34m\u001b[0m\u001b[0;34m\u001b[0m\u001b[0m\n\u001b[1;32m     68\u001b[0m \u001b[0;34m\u001b[0m\u001b[0m\n\u001b[0;32m---> 69\u001b[0;31m   \u001b[0;32mwhile\u001b[0m \u001b[0mresult\u001b[0m\u001b[0;34m[\u001b[0m\u001b[0;34m'action'\u001b[0m\u001b[0;34m]\u001b[0m \u001b[0;34m!=\u001b[0m \u001b[0;34m'complete'\u001b[0m\u001b[0;34m:\u001b[0m\u001b[0;34m\u001b[0m\u001b[0;34m\u001b[0m\u001b[0m\n\u001b[0m\u001b[1;32m     70\u001b[0m     result = _output.eval_js(\n\u001b[1;32m     71\u001b[0m         'google.colab._files._uploadFilesContinue(\"{output_id}\")'.format(\n",
            "\u001b[0;31mTypeError\u001b[0m: 'NoneType' object is not subscriptable"
          ]
        }
      ]
    },
    {
      "cell_type": "markdown",
      "metadata": {
        "id": "vKYxPiHbHj48",
        "colab_type": "text"
      },
      "source": [
        ""
      ]
    },
    {
      "cell_type": "code",
      "metadata": {
        "id": "2H6cS4WvHm8T",
        "colab_type": "code",
        "colab": {}
      },
      "source": [
        "import pandas as pd\n",
        "df = pd.read_csv('/content/201704health.csv', encoding='utf-8')\n",
        "df"
      ],
      "execution_count": 0,
      "outputs": []
    },
    {
      "cell_type": "code",
      "metadata": {
        "id": "yqlNLAEucZ2C",
        "colab_type": "code",
        "colab": {}
      },
      "source": [
        "import pandas as pd\n",
        "df = pd.read_excel('/content/201704health.xlsx')\n",
        "df"
      ],
      "execution_count": 0,
      "outputs": []
    },
    {
      "cell_type": "code",
      "metadata": {
        "id": "OS17JrRGcrsR",
        "colab_type": "code",
        "colab": {}
      },
      "source": [
        "url = 'https://ja.wikipedia.org/wiki/%E3%83%88%E3%83%83%E3%83%97%E3%83%AC%E3%83%99%E3%83%AB%E3%83%89%E3%83%A1%E3%82%A4%E3%83%B3%E4%B8%80%E8%A6%A7'\n",
        "tables = pd.read_html(url)"
      ],
      "execution_count": 0,
      "outputs": []
    },
    {
      "cell_type": "code",
      "metadata": {
        "id": "msHE2N9uc_EI",
        "colab_type": "code",
        "colab": {}
      },
      "source": [
        "len(tables)"
      ],
      "execution_count": 0,
      "outputs": []
    },
    {
      "cell_type": "code",
      "metadata": {
        "id": "jUMxpAzJdAZX",
        "colab_type": "code",
        "colab": {
          "base_uri": "https://localhost:8080/",
          "height": 606
        },
        "outputId": "689096bd-a631-401a-df89-10e9404813a3"
      },
      "source": [
        "df = tables[4]\n",
        "df"
      ],
      "execution_count": 93,
      "outputs": [
        {
          "output_type": "execute_result",
          "data": {
            "text/html": [
              "<div>\n",
              "<style scoped>\n",
              "    .dataframe tbody tr th:only-of-type {\n",
              "        vertical-align: middle;\n",
              "    }\n",
              "\n",
              "    .dataframe tbody tr th {\n",
              "        vertical-align: top;\n",
              "    }\n",
              "\n",
              "    .dataframe thead th {\n",
              "        text-align: right;\n",
              "    }\n",
              "</style>\n",
              "<table border=\"1\" class=\"dataframe\">\n",
              "  <thead>\n",
              "    <tr style=\"text-align: right;\">\n",
              "      <th></th>\n",
              "      <th>Name</th>\n",
              "      <th>Entity</th>\n",
              "      <th>Explanation</th>\n",
              "      <th>Notes</th>\n",
              "      <th>IDN</th>\n",
              "      <th>DNSSEC</th>\n",
              "      <th>SLD</th>\n",
              "      <th>IPv6</th>\n",
              "    </tr>\n",
              "  </thead>\n",
              "  <tbody>\n",
              "    <tr>\n",
              "      <th>0</th>\n",
              "      <td>.ac</td>\n",
              "      <td>アセンション島</td>\n",
              "      <td>NaN</td>\n",
              "      <td>広く学術的なサイト（大学など）のために用いられる。アセンション島はイギリス領であるが、イギリ...</td>\n",
              "      <td>Yes</td>\n",
              "      <td>Yes</td>\n",
              "      <td>Yes</td>\n",
              "      <td>Yes</td>\n",
              "    </tr>\n",
              "    <tr>\n",
              "      <th>1</th>\n",
              "      <td>.ad</td>\n",
              "      <td>アンドラ</td>\n",
              "      <td>NaN</td>\n",
              "      <td>アンドラにおける商標または市民権が必要となる[6][7]。</td>\n",
              "      <td>NaN</td>\n",
              "      <td>Yes</td>\n",
              "      <td>Yes</td>\n",
              "      <td>NaN</td>\n",
              "    </tr>\n",
              "    <tr>\n",
              "      <th>2</th>\n",
              "      <td>.ae</td>\n",
              "      <td>アラブ首長国連邦</td>\n",
              "      <td>NaN</td>\n",
              "      <td>NaN</td>\n",
              "      <td>NaN</td>\n",
              "      <td>No</td>\n",
              "      <td>Yes</td>\n",
              "      <td>NaN</td>\n",
              "    </tr>\n",
              "    <tr>\n",
              "      <th>3</th>\n",
              "      <td>.af</td>\n",
              "      <td>アフガニスタン</td>\n",
              "      <td>NaN</td>\n",
              "      <td>NaN</td>\n",
              "      <td>NaN</td>\n",
              "      <td>Yes</td>\n",
              "      <td>Yes</td>\n",
              "      <td>NaN</td>\n",
              "    </tr>\n",
              "    <tr>\n",
              "      <th>4</th>\n",
              "      <td>.ag</td>\n",
              "      <td>アンティグア・バーブーダ</td>\n",
              "      <td>NaN</td>\n",
              "      <td>AGがドイツの株式会社(Aktiengesellschaft)の略称であることから、非公式に...</td>\n",
              "      <td>NaN</td>\n",
              "      <td>Yes</td>\n",
              "      <td>Yes</td>\n",
              "      <td>NaN</td>\n",
              "    </tr>\n",
              "    <tr>\n",
              "      <th>...</th>\n",
              "      <td>...</td>\n",
              "      <td>...</td>\n",
              "      <td>...</td>\n",
              "      <td>...</td>\n",
              "      <td>...</td>\n",
              "      <td>...</td>\n",
              "      <td>...</td>\n",
              "      <td>...</td>\n",
              "    </tr>\n",
              "    <tr>\n",
              "      <th>248</th>\n",
              "      <td>.ye</td>\n",
              "      <td>イエメン</td>\n",
              "      <td>NaN</td>\n",
              "      <td>NaN</td>\n",
              "      <td>NaN</td>\n",
              "      <td>No</td>\n",
              "      <td>No</td>\n",
              "      <td>NaN</td>\n",
              "    </tr>\n",
              "    <tr>\n",
              "      <th>249</th>\n",
              "      <td>.yt</td>\n",
              "      <td>マヨット島</td>\n",
              "      <td>NaN</td>\n",
              "      <td>欧州連合・スイス・ノルウェー・アイスランド・リヒテンシュタインの個人・企業に限る[cctld...</td>\n",
              "      <td>Yes[cctld 12]</td>\n",
              "      <td>Yes</td>\n",
              "      <td>Yes</td>\n",
              "      <td>NaN</td>\n",
              "    </tr>\n",
              "    <tr>\n",
              "      <th>250</th>\n",
              "      <td>.za</td>\n",
              "      <td>南アフリカ</td>\n",
              "      <td>Zuid-Afrika (オランダ語)</td>\n",
              "      <td>NaN</td>\n",
              "      <td>NaN</td>\n",
              "      <td>No</td>\n",
              "      <td>No</td>\n",
              "      <td>NaN</td>\n",
              "    </tr>\n",
              "    <tr>\n",
              "      <th>251</th>\n",
              "      <td>.zm</td>\n",
              "      <td>ザンビア</td>\n",
              "      <td>NaN</td>\n",
              "      <td>NaN</td>\n",
              "      <td>NaN</td>\n",
              "      <td>Yes</td>\n",
              "      <td>Yes[cctld 28]</td>\n",
              "      <td>NaN</td>\n",
              "    </tr>\n",
              "    <tr>\n",
              "      <th>252</th>\n",
              "      <td>.zw</td>\n",
              "      <td>ジンバブエ</td>\n",
              "      <td>NaN</td>\n",
              "      <td>NaN</td>\n",
              "      <td>NaN</td>\n",
              "      <td>No</td>\n",
              "      <td>No</td>\n",
              "      <td>NaN</td>\n",
              "    </tr>\n",
              "  </tbody>\n",
              "</table>\n",
              "<p>253 rows × 8 columns</p>\n",
              "</div>"
            ],
            "text/plain": [
              "    Name        Entity          Explanation  ... DNSSEC            SLD IPv6\n",
              "0    .ac       アセンション島                  NaN  ...    Yes            Yes  Yes\n",
              "1    .ad          アンドラ                  NaN  ...    Yes            Yes  NaN\n",
              "2    .ae      アラブ首長国連邦                  NaN  ...     No            Yes  NaN\n",
              "3    .af       アフガニスタン                  NaN  ...    Yes            Yes  NaN\n",
              "4    .ag  アンティグア・バーブーダ                  NaN  ...    Yes            Yes  NaN\n",
              "..   ...           ...                  ...  ...    ...            ...  ...\n",
              "248  .ye          イエメン                  NaN  ...     No             No  NaN\n",
              "249  .yt         マヨット島                  NaN  ...    Yes            Yes  NaN\n",
              "250  .za         南アフリカ  Zuid-Afrika (オランダ語)  ...     No             No  NaN\n",
              "251  .zm          ザンビア                  NaN  ...    Yes  Yes[cctld 28]  NaN\n",
              "252  .zw         ジンバブエ                  NaN  ...     No             No  NaN\n",
              "\n",
              "[253 rows x 8 columns]"
            ]
          },
          "metadata": {
            "tags": []
          },
          "execution_count": 93
        }
      ]
    },
    {
      "cell_type": "code",
      "metadata": {
        "id": "GkQ78WUrdFA1",
        "colab_type": "code",
        "colab": {}
      },
      "source": [
        "df.to_csv('/content/write_data.csv')"
      ],
      "execution_count": 0,
      "outputs": []
    },
    {
      "cell_type": "code",
      "metadata": {
        "id": "idzQ4TiZdeNa",
        "colab_type": "code",
        "colab": {}
      },
      "source": [
        "df.to_excel('/content/write_data.xlsx')"
      ],
      "execution_count": 0,
      "outputs": []
    },
    {
      "cell_type": "code",
      "metadata": {
        "id": "DQIj6zSOdoQh",
        "colab_type": "code",
        "colab": {}
      },
      "source": [
        "df.to_pickle('/content/write_df.pickle')"
      ],
      "execution_count": 0,
      "outputs": []
    },
    {
      "cell_type": "code",
      "metadata": {
        "id": "pRUhEMgThe5Q",
        "colab_type": "code",
        "colab": {}
      },
      "source": [
        "df = pd.read_pickle('/content/write_df.pickle')"
      ],
      "execution_count": 0,
      "outputs": []
    },
    {
      "cell_type": "code",
      "metadata": {
        "id": "ycxhbZV2il5-",
        "colab_type": "code",
        "colab": {
          "base_uri": "https://localhost:8080/",
          "height": 606
        },
        "outputId": "ce8034d5-c7dd-4b93-869d-2e5f3e3896f9"
      },
      "source": [
        "df"
      ],
      "execution_count": 102,
      "outputs": [
        {
          "output_type": "execute_result",
          "data": {
            "text/html": [
              "<div>\n",
              "<style scoped>\n",
              "    .dataframe tbody tr th:only-of-type {\n",
              "        vertical-align: middle;\n",
              "    }\n",
              "\n",
              "    .dataframe tbody tr th {\n",
              "        vertical-align: top;\n",
              "    }\n",
              "\n",
              "    .dataframe thead th {\n",
              "        text-align: right;\n",
              "    }\n",
              "</style>\n",
              "<table border=\"1\" class=\"dataframe\">\n",
              "  <thead>\n",
              "    <tr style=\"text-align: right;\">\n",
              "      <th></th>\n",
              "      <th>Name</th>\n",
              "      <th>Entity</th>\n",
              "      <th>Explanation</th>\n",
              "      <th>Notes</th>\n",
              "      <th>IDN</th>\n",
              "      <th>DNSSEC</th>\n",
              "      <th>SLD</th>\n",
              "      <th>IPv6</th>\n",
              "    </tr>\n",
              "  </thead>\n",
              "  <tbody>\n",
              "    <tr>\n",
              "      <th>0</th>\n",
              "      <td>.ac</td>\n",
              "      <td>アセンション島</td>\n",
              "      <td>NaN</td>\n",
              "      <td>広く学術的なサイト（大学など）のために用いられる。アセンション島はイギリス領であるが、イギリ...</td>\n",
              "      <td>Yes</td>\n",
              "      <td>Yes</td>\n",
              "      <td>Yes</td>\n",
              "      <td>Yes</td>\n",
              "    </tr>\n",
              "    <tr>\n",
              "      <th>1</th>\n",
              "      <td>.ad</td>\n",
              "      <td>アンドラ</td>\n",
              "      <td>NaN</td>\n",
              "      <td>アンドラにおける商標または市民権が必要となる[6][7]。</td>\n",
              "      <td>NaN</td>\n",
              "      <td>Yes</td>\n",
              "      <td>Yes</td>\n",
              "      <td>NaN</td>\n",
              "    </tr>\n",
              "    <tr>\n",
              "      <th>2</th>\n",
              "      <td>.ae</td>\n",
              "      <td>アラブ首長国連邦</td>\n",
              "      <td>NaN</td>\n",
              "      <td>NaN</td>\n",
              "      <td>NaN</td>\n",
              "      <td>No</td>\n",
              "      <td>Yes</td>\n",
              "      <td>NaN</td>\n",
              "    </tr>\n",
              "    <tr>\n",
              "      <th>3</th>\n",
              "      <td>.af</td>\n",
              "      <td>アフガニスタン</td>\n",
              "      <td>NaN</td>\n",
              "      <td>NaN</td>\n",
              "      <td>NaN</td>\n",
              "      <td>Yes</td>\n",
              "      <td>Yes</td>\n",
              "      <td>NaN</td>\n",
              "    </tr>\n",
              "    <tr>\n",
              "      <th>4</th>\n",
              "      <td>.ag</td>\n",
              "      <td>アンティグア・バーブーダ</td>\n",
              "      <td>NaN</td>\n",
              "      <td>AGがドイツの株式会社(Aktiengesellschaft)の略称であることから、非公式に...</td>\n",
              "      <td>NaN</td>\n",
              "      <td>Yes</td>\n",
              "      <td>Yes</td>\n",
              "      <td>NaN</td>\n",
              "    </tr>\n",
              "    <tr>\n",
              "      <th>...</th>\n",
              "      <td>...</td>\n",
              "      <td>...</td>\n",
              "      <td>...</td>\n",
              "      <td>...</td>\n",
              "      <td>...</td>\n",
              "      <td>...</td>\n",
              "      <td>...</td>\n",
              "      <td>...</td>\n",
              "    </tr>\n",
              "    <tr>\n",
              "      <th>248</th>\n",
              "      <td>.ye</td>\n",
              "      <td>イエメン</td>\n",
              "      <td>NaN</td>\n",
              "      <td>NaN</td>\n",
              "      <td>NaN</td>\n",
              "      <td>No</td>\n",
              "      <td>No</td>\n",
              "      <td>NaN</td>\n",
              "    </tr>\n",
              "    <tr>\n",
              "      <th>249</th>\n",
              "      <td>.yt</td>\n",
              "      <td>マヨット島</td>\n",
              "      <td>NaN</td>\n",
              "      <td>欧州連合・スイス・ノルウェー・アイスランド・リヒテンシュタインの個人・企業に限る[cctld...</td>\n",
              "      <td>Yes[cctld 12]</td>\n",
              "      <td>Yes</td>\n",
              "      <td>Yes</td>\n",
              "      <td>NaN</td>\n",
              "    </tr>\n",
              "    <tr>\n",
              "      <th>250</th>\n",
              "      <td>.za</td>\n",
              "      <td>南アフリカ</td>\n",
              "      <td>Zuid-Afrika (オランダ語)</td>\n",
              "      <td>NaN</td>\n",
              "      <td>NaN</td>\n",
              "      <td>No</td>\n",
              "      <td>No</td>\n",
              "      <td>NaN</td>\n",
              "    </tr>\n",
              "    <tr>\n",
              "      <th>251</th>\n",
              "      <td>.zm</td>\n",
              "      <td>ザンビア</td>\n",
              "      <td>NaN</td>\n",
              "      <td>NaN</td>\n",
              "      <td>NaN</td>\n",
              "      <td>Yes</td>\n",
              "      <td>Yes[cctld 28]</td>\n",
              "      <td>NaN</td>\n",
              "    </tr>\n",
              "    <tr>\n",
              "      <th>252</th>\n",
              "      <td>.zw</td>\n",
              "      <td>ジンバブエ</td>\n",
              "      <td>NaN</td>\n",
              "      <td>NaN</td>\n",
              "      <td>NaN</td>\n",
              "      <td>No</td>\n",
              "      <td>No</td>\n",
              "      <td>NaN</td>\n",
              "    </tr>\n",
              "  </tbody>\n",
              "</table>\n",
              "<p>253 rows × 8 columns</p>\n",
              "</div>"
            ],
            "text/plain": [
              "    Name        Entity          Explanation  ... DNSSEC            SLD IPv6\n",
              "0    .ac       アセンション島                  NaN  ...    Yes            Yes  Yes\n",
              "1    .ad          アンドラ                  NaN  ...    Yes            Yes  NaN\n",
              "2    .ae      アラブ首長国連邦                  NaN  ...     No            Yes  NaN\n",
              "3    .af       アフガニスタン                  NaN  ...    Yes            Yes  NaN\n",
              "4    .ag  アンティグア・バーブーダ                  NaN  ...    Yes            Yes  NaN\n",
              "..   ...           ...                  ...  ...    ...            ...  ...\n",
              "248  .ye          イエメン                  NaN  ...     No             No  NaN\n",
              "249  .yt         マヨット島                  NaN  ...    Yes            Yes  NaN\n",
              "250  .za         南アフリカ  Zuid-Afrika (オランダ語)  ...     No             No  NaN\n",
              "251  .zm          ザンビア                  NaN  ...    Yes  Yes[cctld 28]  NaN\n",
              "252  .zw         ジンバブエ                  NaN  ...     No             No  NaN\n",
              "\n",
              "[253 rows x 8 columns]"
            ]
          },
          "metadata": {
            "tags": []
          },
          "execution_count": 102
        }
      ]
    },
    {
      "cell_type": "markdown",
      "metadata": {
        "id": "Zcj0dLfFixDL",
        "colab_type": "text"
      },
      "source": [
        "**4.2.3 データの成型**"
      ]
    },
    {
      "cell_type": "code",
      "metadata": {
        "id": "JGau4mAxiw1_",
        "colab_type": "code",
        "colab": {}
      },
      "source": [
        ""
      ],
      "execution_count": 0,
      "outputs": []
    }
  ]
}