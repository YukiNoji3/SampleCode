{
  "nbformat": 4,
  "nbformat_minor": 0,
  "metadata": {
    "colab": {
      "name": "Python_DataAnalysis(Matplotlib).ipynb",
      "provenance": [],
      "authorship_tag": "ABX9TyMuJv68GltUf92guNcXs1Ky",
      "include_colab_link": true
    },
    "kernelspec": {
      "name": "python3",
      "display_name": "Python 3"
    }
  },
  "cells": [
    {
      "cell_type": "markdown",
      "metadata": {
        "id": "view-in-github",
        "colab_type": "text"
      },
      "source": [
        "<a href=\"https://colab.research.google.com/github/YukiNoji3/SampleCode/blob/master/Python_DataAnalysis(Matplotlib).ipynb\" target=\"_parent\"><img src=\"https://colab.research.google.com/assets/colab-badge.svg\" alt=\"Open In Colab\"/></a>"
      ]
    },
    {
      "cell_type": "markdown",
      "metadata": {
        "id": "TJ14oE__bBva",
        "colab_type": "text"
      },
      "source": [
        "4.3.1 **Matplotlibの概要**"
      ]
    }
  ]
}