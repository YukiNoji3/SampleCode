{
  "nbformat": 4,
  "nbformat_minor": 0,
  "metadata": {
    "kernelspec": {
      "display_name": "Python 3",
      "language": "python",
      "name": "python3"
    },
    "language_info": {
      "codemirror_mode": {
        "name": "ipython",
        "version": 3
      },
      "file_extension": ".py",
      "mimetype": "text/x-python",
      "name": "python",
      "nbconvert_exporter": "python",
      "pygments_lexer": "ipython3",
      "version": "3.7.3"
    },
    "colab": {
      "name": "Python速習.ipynb",
      "provenance": [],
      "include_colab_link": true
    }
  },
  "cells": [
    {
      "cell_type": "markdown",
      "metadata": {
        "id": "view-in-github",
        "colab_type": "text"
      },
      "source": [
        "<a href=\"https://colab.research.google.com/github/YukiNoji3/SampleCode/blob/master/Python%E9%80%9F%E7%BF%92.ipynb\" target=\"_parent\"><img src=\"https://colab.research.google.com/assets/colab-badge.svg\" alt=\"Open In Colab\"/></a>"
      ]
    },
    {
      "cell_type": "markdown",
      "metadata": {
        "id": "HeMUXNMOwnWt",
        "colab_type": "text"
      },
      "source": [
        "メモを取ることができます"
      ]
    },
    {
      "cell_type": "markdown",
      "metadata": {
        "id": "Bl7HqR__wnWu",
        "colab_type": "text"
      },
      "source": [
        "＃変数"
      ]
    },
    {
      "cell_type": "markdown",
      "metadata": {
        "id": "VF_y7qzqwnWw",
        "colab_type": "text"
      },
      "source": [
        "# 変数"
      ]
    },
    {
      "cell_type": "markdown",
      "metadata": {
        "id": "6J-T4C0AwnWx",
        "colab_type": "text"
      },
      "source": [
        "## 数値"
      ]
    },
    {
      "cell_type": "code",
      "metadata": {
        "id": "VQH-BgnqwnWy",
        "colab_type": "code",
        "colab": {}
      },
      "source": [
        "a = 1"
      ],
      "execution_count": 0,
      "outputs": []
    },
    {
      "cell_type": "code",
      "metadata": {
        "id": "8m53tZ-awnW3",
        "colab_type": "code",
        "colab": {},
        "outputId": "e79c0ba8-1e27-4290-ca0d-7c9a2abcbafa"
      },
      "source": [
        "print(a)"
      ],
      "execution_count": 0,
      "outputs": [
        {
          "output_type": "stream",
          "text": [
            "1\n"
          ],
          "name": "stdout"
        }
      ]
    },
    {
      "cell_type": "code",
      "metadata": {
        "id": "fRq1_6oOwnW9",
        "colab_type": "code",
        "colab": {},
        "outputId": "5a0d4bae-d313-4222-f5e8-816f80424b16"
      },
      "source": [
        "a"
      ],
      "execution_count": 0,
      "outputs": [
        {
          "output_type": "execute_result",
          "data": {
            "text/plain": [
              "1"
            ]
          },
          "metadata": {
            "tags": []
          },
          "execution_count": 5
        }
      ]
    },
    {
      "cell_type": "code",
      "metadata": {
        "id": "v70zM2exwnXC",
        "colab_type": "code",
        "colab": {}
      },
      "source": [
        "b = 1.5"
      ],
      "execution_count": 0,
      "outputs": []
    },
    {
      "cell_type": "code",
      "metadata": {
        "id": "Rv7NDBVVwnXG",
        "colab_type": "code",
        "colab": {},
        "outputId": "a91ca941-5fd0-4818-cbdd-c4585c95cf32"
      },
      "source": [
        "b"
      ],
      "execution_count": 0,
      "outputs": [
        {
          "output_type": "execute_result",
          "data": {
            "text/plain": [
              "1.5"
            ]
          },
          "metadata": {
            "tags": []
          },
          "execution_count": 7
        }
      ]
    },
    {
      "cell_type": "code",
      "metadata": {
        "id": "VudMWJM0wnXK",
        "colab_type": "code",
        "colab": {},
        "outputId": "1ab02833-c431-4801-8c67-8bfdaf20b09e"
      },
      "source": [
        "type(a) #integer:整数"
      ],
      "execution_count": 0,
      "outputs": [
        {
          "output_type": "execute_result",
          "data": {
            "text/plain": [
              "int"
            ]
          },
          "metadata": {
            "tags": []
          },
          "execution_count": 8
        }
      ]
    },
    {
      "cell_type": "code",
      "metadata": {
        "id": "St_UaRDYwnXN",
        "colab_type": "code",
        "colab": {},
        "outputId": "837c8e11-edf3-42cf-9cd1-3b7321cd6a18"
      },
      "source": [
        "type(b) #float:実数"
      ],
      "execution_count": 0,
      "outputs": [
        {
          "output_type": "execute_result",
          "data": {
            "text/plain": [
              "float"
            ]
          },
          "metadata": {
            "tags": []
          },
          "execution_count": 10
        }
      ]
    },
    {
      "cell_type": "markdown",
      "metadata": {
        "id": "KQauszcjwnXQ",
        "colab_type": "text"
      },
      "source": [
        "## 文字列"
      ]
    },
    {
      "cell_type": "code",
      "metadata": {
        "id": "ua_YMEqTwnXR",
        "colab_type": "code",
        "colab": {}
      },
      "source": [
        "name = 'キカガク'"
      ],
      "execution_count": 0,
      "outputs": []
    },
    {
      "cell_type": "code",
      "metadata": {
        "id": "dKsTfqNdwnXT",
        "colab_type": "code",
        "colab": {},
        "outputId": "58234d44-fb58-417e-b900-cd3ea0afdf63"
      },
      "source": [
        "name"
      ],
      "execution_count": 0,
      "outputs": [
        {
          "output_type": "execute_result",
          "data": {
            "text/plain": [
              "'キカガク'"
            ]
          },
          "metadata": {
            "tags": []
          },
          "execution_count": 14
        }
      ]
    },
    {
      "cell_type": "code",
      "metadata": {
        "id": "IfADPQFcwnXV",
        "colab_type": "code",
        "colab": {}
      },
      "source": [
        "name1 = '株式会社'"
      ],
      "execution_count": 0,
      "outputs": []
    },
    {
      "cell_type": "code",
      "metadata": {
        "id": "O4YJW6sbwnXX",
        "colab_type": "code",
        "colab": {}
      },
      "source": [
        "name2 = 'キカガク'"
      ],
      "execution_count": 0,
      "outputs": []
    },
    {
      "cell_type": "code",
      "metadata": {
        "id": "6TejH-WCwnXa",
        "colab_type": "code",
        "colab": {},
        "outputId": "0f8989fd-d0a6-439f-e042-5cc880c7395d"
      },
      "source": [
        "name1+ name2 #String:文字列"
      ],
      "execution_count": 0,
      "outputs": [
        {
          "output_type": "execute_result",
          "data": {
            "text/plain": [
              "'株式会社キカガク'"
            ]
          },
          "metadata": {
            "tags": []
          },
          "execution_count": 17
        }
      ]
    },
    {
      "cell_type": "code",
      "metadata": {
        "id": "vKAelKx_wnXc",
        "colab_type": "code",
        "colab": {},
        "outputId": "4b4cc46b-f927-4629-adcf-6e797ff8ff0f"
      },
      "source": [
        "a + name1 #整数と文字列は足し算ができない"
      ],
      "execution_count": 0,
      "outputs": [
        {
          "output_type": "error",
          "ename": "TypeError",
          "evalue": "unsupported operand type(s) for +: 'int' and 'str'",
          "traceback": [
            "\u001b[1;31m---------------------------------------------------------------------------\u001b[0m",
            "\u001b[1;31mTypeError\u001b[0m                                 Traceback (most recent call last)",
            "\u001b[1;32m<ipython-input-18-755240c5e6db>\u001b[0m in \u001b[0;36m<module>\u001b[1;34m\u001b[0m\n\u001b[1;32m----> 1\u001b[1;33m \u001b[0ma\u001b[0m \u001b[1;33m+\u001b[0m \u001b[0mname1\u001b[0m\u001b[1;33m\u001b[0m\u001b[1;33m\u001b[0m\u001b[0m\n\u001b[0m",
            "\u001b[1;31mTypeError\u001b[0m: unsupported operand type(s) for +: 'int' and 'str'"
          ]
        }
      ]
    },
    {
      "cell_type": "markdown",
      "metadata": {
        "id": "bhkTZ3FlwnXe",
        "colab_type": "text"
      },
      "source": [
        "## 数値の四則演算"
      ]
    },
    {
      "cell_type": "code",
      "metadata": {
        "id": "iGaGNoX6wnXe",
        "colab_type": "code",
        "colab": {},
        "outputId": "a3914829-1cfa-4c98-ddaf-b4f83d18fc45"
      },
      "source": [
        "1 + 1"
      ],
      "execution_count": 0,
      "outputs": [
        {
          "output_type": "execute_result",
          "data": {
            "text/plain": [
              "2"
            ]
          },
          "metadata": {
            "tags": []
          },
          "execution_count": 19
        }
      ]
    },
    {
      "cell_type": "code",
      "metadata": {
        "id": "GtlqJ37GwnXg",
        "colab_type": "code",
        "colab": {},
        "outputId": "2da84e21-5a2f-4d4c-e58a-f9eb3a1b0481"
      },
      "source": [
        "2 - 1"
      ],
      "execution_count": 0,
      "outputs": [
        {
          "output_type": "execute_result",
          "data": {
            "text/plain": [
              "1"
            ]
          },
          "metadata": {
            "tags": []
          },
          "execution_count": 20
        }
      ]
    },
    {
      "cell_type": "code",
      "metadata": {
        "id": "JUntqTlswnXp",
        "colab_type": "code",
        "colab": {},
        "outputId": "7a1353f3-14fb-4a88-9e03-e1d4937a015f"
      },
      "source": [
        "3 * 5"
      ],
      "execution_count": 0,
      "outputs": [
        {
          "output_type": "execute_result",
          "data": {
            "text/plain": [
              "15"
            ]
          },
          "metadata": {
            "tags": []
          },
          "execution_count": 21
        }
      ]
    },
    {
      "cell_type": "code",
      "metadata": {
        "id": "lFl2nXD4wnXt",
        "colab_type": "code",
        "colab": {},
        "outputId": "773a27da-d8a9-4a7e-ebb1-e2b534acc7bb"
      },
      "source": [
        "10 / 2"
      ],
      "execution_count": 0,
      "outputs": [
        {
          "output_type": "execute_result",
          "data": {
            "text/plain": [
              "5.0"
            ]
          },
          "metadata": {
            "tags": []
          },
          "execution_count": 22
        }
      ]
    },
    {
      "cell_type": "code",
      "metadata": {
        "id": "u1yMZZuSwnXw",
        "colab_type": "code",
        "colab": {},
        "outputId": "f6462b2f-30f6-4581-8a80-5b29bd77e2bf"
      },
      "source": [
        "2 ** 3"
      ],
      "execution_count": 0,
      "outputs": [
        {
          "output_type": "execute_result",
          "data": {
            "text/plain": [
              "8"
            ]
          },
          "metadata": {
            "tags": []
          },
          "execution_count": 23
        }
      ]
    },
    {
      "cell_type": "markdown",
      "metadata": {
        "id": "1AFeX31AwnXz",
        "colab_type": "text"
      },
      "source": [
        "# 基本構文"
      ]
    },
    {
      "cell_type": "markdown",
      "metadata": {
        "id": "Qj6hES0_wnXz",
        "colab_type": "text"
      },
      "source": [
        "## 比較演算"
      ]
    },
    {
      "cell_type": "code",
      "metadata": {
        "id": "3o5GrGJSwnX0",
        "colab_type": "code",
        "colab": {},
        "outputId": "d6f0c662-fd6f-4fda-f386-e2920c403d58"
      },
      "source": [
        "1 < 2"
      ],
      "execution_count": 0,
      "outputs": [
        {
          "output_type": "execute_result",
          "data": {
            "text/plain": [
              "True"
            ]
          },
          "metadata": {
            "tags": []
          },
          "execution_count": 24
        }
      ]
    },
    {
      "cell_type": "code",
      "metadata": {
        "id": "DFtZaH0iwnX2",
        "colab_type": "code",
        "colab": {}
      },
      "source": [
        "a = 3"
      ],
      "execution_count": 0,
      "outputs": []
    },
    {
      "cell_type": "code",
      "metadata": {
        "id": "ESlUn5qLwnX4",
        "colab_type": "code",
        "colab": {},
        "outputId": "1d1f6501-9b60-49ae-c097-ea50b84ea049"
      },
      "source": [
        "a < 2"
      ],
      "execution_count": 0,
      "outputs": [
        {
          "output_type": "execute_result",
          "data": {
            "text/plain": [
              "False"
            ]
          },
          "metadata": {
            "tags": []
          },
          "execution_count": 26
        }
      ]
    },
    {
      "cell_type": "code",
      "metadata": {
        "id": "RplyYs5GwnX6",
        "colab_type": "code",
        "colab": {},
        "outputId": "c5f55610-dde7-482c-9868-d3b034b016e0"
      },
      "source": [
        "a == 3 #等しい"
      ],
      "execution_count": 0,
      "outputs": [
        {
          "output_type": "execute_result",
          "data": {
            "text/plain": [
              "True"
            ]
          },
          "metadata": {
            "tags": []
          },
          "execution_count": 27
        }
      ]
    },
    {
      "cell_type": "code",
      "metadata": {
        "id": "gjr6_x7pwnX8",
        "colab_type": "code",
        "colab": {},
        "outputId": "43fe343f-c3f2-4858-e948-a0618b736a25"
      },
      "source": [
        "a == 4"
      ],
      "execution_count": 0,
      "outputs": [
        {
          "output_type": "execute_result",
          "data": {
            "text/plain": [
              "False"
            ]
          },
          "metadata": {
            "tags": []
          },
          "execution_count": 28
        }
      ]
    },
    {
      "cell_type": "code",
      "metadata": {
        "id": "4X5nGvogwnX-",
        "colab_type": "code",
        "colab": {},
        "outputId": "7a2159f3-acb4-42bc-a1bd-2ad1cfd92d57"
      },
      "source": [
        "a != 3 #等しくない"
      ],
      "execution_count": 0,
      "outputs": [
        {
          "output_type": "execute_result",
          "data": {
            "text/plain": [
              "False"
            ]
          },
          "metadata": {
            "tags": []
          },
          "execution_count": 29
        }
      ]
    },
    {
      "cell_type": "code",
      "metadata": {
        "id": "3_QKQAfJwnYA",
        "colab_type": "code",
        "colab": {},
        "outputId": "5e91d369-5f22-4a7a-ad6f-4905b0b94481"
      },
      "source": [
        "a != 4"
      ],
      "execution_count": 0,
      "outputs": [
        {
          "output_type": "execute_result",
          "data": {
            "text/plain": [
              "True"
            ]
          },
          "metadata": {
            "tags": []
          },
          "execution_count": 30
        }
      ]
    },
    {
      "cell_type": "markdown",
      "metadata": {
        "id": "ivs9sq5EwnYC",
        "colab_type": "text"
      },
      "source": [
        "## エスケープシーケンス"
      ]
    },
    {
      "cell_type": "code",
      "metadata": {
        "id": "4BPIkrA4wnYC",
        "colab_type": "code",
        "colab": {},
        "outputId": "dfb361a7-c891-4fce-bf56-6ac4e19f4934"
      },
      "source": [
        "print('私はキカガクです。\\nよろしくお願いします。')"
      ],
      "execution_count": 0,
      "outputs": [
        {
          "output_type": "stream",
          "text": [
            "私はキカガクです。\n",
            "よろしくお願いします。\n"
          ],
          "name": "stdout"
        }
      ]
    },
    {
      "cell_type": "code",
      "metadata": {
        "id": "IuuT0hzmwnYE",
        "colab_type": "code",
        "colab": {},
        "outputId": "663294bb-9374-42d8-f7b4-1381162b35c6"
      },
      "source": [
        "print('私はキカガクです。\\nよろしくお願いします。\\n\\tタブ1\\n\\tタブ2')"
      ],
      "execution_count": 0,
      "outputs": [
        {
          "output_type": "stream",
          "text": [
            "私はキカガクです。\n",
            "よろしくお願いします。\n",
            "\tタブ1\n",
            "\tタブ2\n"
          ],
          "name": "stdout"
        }
      ]
    },
    {
      "cell_type": "markdown",
      "metadata": {
        "id": "3J-nbcTnwnYG",
        "colab_type": "text"
      },
      "source": [
        "## コメントアウト"
      ]
    },
    {
      "cell_type": "code",
      "metadata": {
        "id": "1OgLCBwEwnYG",
        "colab_type": "code",
        "colab": {}
      },
      "source": [
        "# これは○○な機能です。"
      ],
      "execution_count": 0,
      "outputs": []
    },
    {
      "cell_type": "markdown",
      "metadata": {
        "id": "IvGkWOSVwnYI",
        "colab_type": "text"
      },
      "source": [
        "## リスト"
      ]
    },
    {
      "cell_type": "code",
      "metadata": {
        "id": "P6NIIZ_cwnYI",
        "colab_type": "code",
        "colab": {}
      },
      "source": [
        "numbers = [4, 5, 6, 7]"
      ],
      "execution_count": 0,
      "outputs": []
    },
    {
      "cell_type": "code",
      "metadata": {
        "id": "8EklGVQ6wnYK",
        "colab_type": "code",
        "colab": {},
        "outputId": "6349caae-32bb-4574-9f64-a893b9ba9208"
      },
      "source": [
        "numbers"
      ],
      "execution_count": 0,
      "outputs": [
        {
          "output_type": "execute_result",
          "data": {
            "text/plain": [
              "[4, 5, 6, 7]"
            ]
          },
          "metadata": {
            "tags": []
          },
          "execution_count": 3
        }
      ]
    },
    {
      "cell_type": "code",
      "metadata": {
        "id": "_TBdiJqwwnYM",
        "colab_type": "code",
        "colab": {}
      },
      "source": [
        "numbers[0] = 10"
      ],
      "execution_count": 0,
      "outputs": []
    },
    {
      "cell_type": "code",
      "metadata": {
        "id": "nSno0MlDwnYN",
        "colab_type": "code",
        "colab": {},
        "outputId": "ecdf29eb-25ae-4521-d5d8-94e1dafe0b7c"
      },
      "source": [
        "numbers"
      ],
      "execution_count": 0,
      "outputs": [
        {
          "output_type": "execute_result",
          "data": {
            "text/plain": [
              "[10, 5, 6, 7]"
            ]
          },
          "metadata": {
            "tags": []
          },
          "execution_count": 5
        }
      ]
    },
    {
      "cell_type": "code",
      "metadata": {
        "id": "xMIStTevwnYP",
        "colab_type": "code",
        "colab": {}
      },
      "source": [
        "words = ['hello', 'world', 1, 3.2]"
      ],
      "execution_count": 0,
      "outputs": []
    },
    {
      "cell_type": "code",
      "metadata": {
        "id": "nhVjR2g2wnYQ",
        "colab_type": "code",
        "colab": {}
      },
      "source": [
        "names = [] #からのリスト"
      ],
      "execution_count": 0,
      "outputs": []
    },
    {
      "cell_type": "code",
      "metadata": {
        "id": "Zjz7wjoiwnYS",
        "colab_type": "code",
        "colab": {},
        "outputId": "f2ffa488-f659-4b21-f2db-10210d520b89"
      },
      "source": [
        "names"
      ],
      "execution_count": 0,
      "outputs": [
        {
          "output_type": "execute_result",
          "data": {
            "text/plain": [
              "[]"
            ]
          },
          "metadata": {
            "tags": []
          },
          "execution_count": 8
        }
      ]
    },
    {
      "cell_type": "code",
      "metadata": {
        "id": "3F7P6WVWwnYU",
        "colab_type": "code",
        "colab": {}
      },
      "source": [
        "names.append('株式会社')"
      ],
      "execution_count": 0,
      "outputs": []
    },
    {
      "cell_type": "code",
      "metadata": {
        "id": "0LfxjQI1wnYV",
        "colab_type": "code",
        "colab": {},
        "outputId": "3e4950a7-4982-4bd6-9635-86ddcf83ff21"
      },
      "source": [
        "names"
      ],
      "execution_count": 0,
      "outputs": [
        {
          "output_type": "execute_result",
          "data": {
            "text/plain": [
              "['株式会社']"
            ]
          },
          "metadata": {
            "tags": []
          },
          "execution_count": 10
        }
      ]
    },
    {
      "cell_type": "code",
      "metadata": {
        "id": "jTfOuviWwnYX",
        "colab_type": "code",
        "colab": {}
      },
      "source": [
        "names.append('キカガク')"
      ],
      "execution_count": 0,
      "outputs": []
    },
    {
      "cell_type": "code",
      "metadata": {
        "id": "f2jkVaZSwnYa",
        "colab_type": "code",
        "colab": {},
        "outputId": "3869e5ef-63f4-4363-b09a-740f3587b4bf"
      },
      "source": [
        "names"
      ],
      "execution_count": 0,
      "outputs": [
        {
          "output_type": "execute_result",
          "data": {
            "text/plain": [
              "['株式会社', 'キカガク']"
            ]
          },
          "metadata": {
            "tags": []
          },
          "execution_count": 12
        }
      ]
    },
    {
      "cell_type": "markdown",
      "metadata": {
        "id": "GOjrl8P7wnYc",
        "colab_type": "text"
      },
      "source": [
        "# タプル"
      ]
    },
    {
      "cell_type": "code",
      "metadata": {
        "id": "ZCp3zn_YwnYc",
        "colab_type": "code",
        "colab": {}
      },
      "source": [
        "t = (4, 5, 6 , 7) #タプルの定義:()"
      ],
      "execution_count": 0,
      "outputs": []
    },
    {
      "cell_type": "code",
      "metadata": {
        "id": "X6vJN72SwnYe",
        "colab_type": "code",
        "colab": {},
        "outputId": "16dcc4f7-7d72-4286-a4f6-55f1e5729d19"
      },
      "source": [
        "t"
      ],
      "execution_count": 0,
      "outputs": [
        {
          "output_type": "execute_result",
          "data": {
            "text/plain": [
              "(4, 5, 6, 7)"
            ]
          },
          "metadata": {
            "tags": []
          },
          "execution_count": 15
        }
      ]
    },
    {
      "cell_type": "code",
      "metadata": {
        "id": "kN9d6T-RwnYh",
        "colab_type": "code",
        "colab": {},
        "outputId": "8c38f8a3-d34e-4a7e-df27-8327c1a60e2d"
      },
      "source": [
        "t[0]"
      ],
      "execution_count": 0,
      "outputs": [
        {
          "output_type": "execute_result",
          "data": {
            "text/plain": [
              "4"
            ]
          },
          "metadata": {
            "tags": []
          },
          "execution_count": 16
        }
      ]
    },
    {
      "cell_type": "code",
      "metadata": {
        "id": "JUuMu_wfwnYj",
        "colab_type": "code",
        "colab": {},
        "outputId": "f4e8428d-ff24-4516-acf8-c20083b0fffb"
      },
      "source": [
        "t[0:3]"
      ],
      "execution_count": 0,
      "outputs": [
        {
          "output_type": "execute_result",
          "data": {
            "text/plain": [
              "(4, 5, 6)"
            ]
          },
          "metadata": {
            "tags": []
          },
          "execution_count": 17
        }
      ]
    },
    {
      "cell_type": "code",
      "metadata": {
        "id": "aHA1sQ8hwnYl",
        "colab_type": "code",
        "colab": {},
        "outputId": "9b68a07b-df8b-4c09-c547-aaef9184f003"
      },
      "source": [
        "t[0]=10"
      ],
      "execution_count": 0,
      "outputs": [
        {
          "output_type": "error",
          "ename": "TypeError",
          "evalue": "'tuple' object does not support item assignment",
          "traceback": [
            "\u001b[1;31m---------------------------------------------------------------------------\u001b[0m",
            "\u001b[1;31mTypeError\u001b[0m                                 Traceback (most recent call last)",
            "\u001b[1;32m<ipython-input-18-03ac23426653>\u001b[0m in \u001b[0;36m<module>\u001b[1;34m\u001b[0m\n\u001b[1;32m----> 1\u001b[1;33m \u001b[0mt\u001b[0m\u001b[1;33m[\u001b[0m\u001b[1;36m0\u001b[0m\u001b[1;33m]\u001b[0m\u001b[1;33m=\u001b[0m\u001b[1;36m10\u001b[0m\u001b[1;33m\u001b[0m\u001b[1;33m\u001b[0m\u001b[0m\n\u001b[0m",
            "\u001b[1;31mTypeError\u001b[0m: 'tuple' object does not support item assignment"
          ]
        }
      ]
    },
    {
      "cell_type": "markdown",
      "metadata": {
        "id": "SN5cLoFzwnYn",
        "colab_type": "text"
      },
      "source": [
        "# 辞書"
      ]
    },
    {
      "cell_type": "code",
      "metadata": {
        "id": "wi7nfkklwnYn",
        "colab_type": "code",
        "colab": {}
      },
      "source": [
        "results = {'数学':90, '理科':80, '英語':75}"
      ],
      "execution_count": 0,
      "outputs": []
    },
    {
      "cell_type": "code",
      "metadata": {
        "id": "LmRvvCJAwnYp",
        "colab_type": "code",
        "colab": {},
        "outputId": "6d9a429c-4d59-4303-87c0-cddcc2233067"
      },
      "source": [
        "results['数学']"
      ],
      "execution_count": 0,
      "outputs": [
        {
          "output_type": "execute_result",
          "data": {
            "text/plain": [
              "90"
            ]
          },
          "metadata": {
            "tags": []
          },
          "execution_count": 20
        }
      ]
    },
    {
      "cell_type": "markdown",
      "metadata": {
        "id": "2nN2kqNNwnYq",
        "colab_type": "text"
      },
      "source": [
        "# 制御構文"
      ]
    },
    {
      "cell_type": "markdown",
      "metadata": {
        "id": "VQ_vLB3bwnYr",
        "colab_type": "text"
      },
      "source": [
        "## for文:繰り返し"
      ]
    },
    {
      "cell_type": "code",
      "metadata": {
        "id": "UOQzJIvrwnYr",
        "colab_type": "code",
        "colab": {},
        "outputId": "effe3de0-b17f-49c7-f6aa-f9340b4f6450"
      },
      "source": [
        "for i in range(5):\n",
        "    print(i)\n",
        "    print('キカガク')"
      ],
      "execution_count": 0,
      "outputs": [
        {
          "output_type": "stream",
          "text": [
            "0\n",
            "キカガク\n",
            "1\n",
            "キカガク\n",
            "2\n",
            "キカガク\n",
            "3\n",
            "キカガク\n",
            "4\n",
            "キカガク\n"
          ],
          "name": "stdout"
        }
      ]
    },
    {
      "cell_type": "code",
      "metadata": {
        "id": "20GHx4S2wnYt",
        "colab_type": "code",
        "colab": {},
        "outputId": "eab698c8-77b5-4244-a450-af2416c792a4"
      },
      "source": [
        "names = ['佐藤', '鈴木', '高橋' ,'吉田', '吉崎']\n",
        "for i in range(3):\n",
        "    print(i)"
      ],
      "execution_count": 0,
      "outputs": [
        {
          "output_type": "stream",
          "text": [
            "0\n",
            "1\n",
            "2\n"
          ],
          "name": "stdout"
        }
      ]
    },
    {
      "cell_type": "code",
      "metadata": {
        "id": "IjVxe7FLwnYu",
        "colab_type": "code",
        "colab": {},
        "outputId": "07883fef-079b-401c-9280-d72f70f8e516"
      },
      "source": [
        "for i in range(len(names)):\n",
        "    print(names[i] + 'さん')"
      ],
      "execution_count": 0,
      "outputs": [
        {
          "output_type": "stream",
          "text": [
            "佐藤さん\n",
            "鈴木さん\n",
            "高橋さん\n",
            "吉田さん\n",
            "吉崎さん\n"
          ],
          "name": "stdout"
        }
      ]
    },
    {
      "cell_type": "code",
      "metadata": {
        "id": "MFZPMxk-wnYx",
        "colab_type": "code",
        "colab": {},
        "outputId": "7d6c7267-15eb-4210-e662-3c65c27dfb13"
      },
      "source": [
        "len(names) #length"
      ],
      "execution_count": 0,
      "outputs": [
        {
          "output_type": "execute_result",
          "data": {
            "text/plain": [
              "5"
            ]
          },
          "metadata": {
            "tags": []
          },
          "execution_count": 40
        }
      ]
    },
    {
      "cell_type": "code",
      "metadata": {
        "id": "o7-2T_2JwnYz",
        "colab_type": "code",
        "colab": {},
        "outputId": "518ace22-7758-4e9b-940b-f9b2f2b59e76"
      },
      "source": [
        "for name in names:\n",
        "    print(name + 'さん')"
      ],
      "execution_count": 0,
      "outputs": [
        {
          "output_type": "stream",
          "text": [
            "佐藤さん\n",
            "鈴木さん\n",
            "高橋さん\n",
            "吉田さん\n",
            "吉崎さん\n"
          ],
          "name": "stdout"
        }
      ]
    },
    {
      "cell_type": "markdown",
      "metadata": {
        "id": "SOvLz8y1wnY2",
        "colab_type": "text"
      },
      "source": [
        "## if文：条件分岐"
      ]
    },
    {
      "cell_type": "code",
      "metadata": {
        "id": "j59_DIPlwnY2",
        "colab_type": "code",
        "colab": {},
        "outputId": "698aabe8-e293-444f-a2d3-73784691148f"
      },
      "source": [
        "val = 0\n",
        "if val > 0:\n",
        "    print('正の値です')\n",
        "elif val == 0:\n",
        "    print('0です')\n",
        "else:\n",
        "    print('負の値です')"
      ],
      "execution_count": 0,
      "outputs": [
        {
          "output_type": "stream",
          "text": [
            "0です\n"
          ],
          "name": "stdout"
        }
      ]
    },
    {
      "cell_type": "markdown",
      "metadata": {
        "id": "AMqkLl5iwnY4",
        "colab_type": "text"
      },
      "source": [
        "## 関数"
      ]
    },
    {
      "cell_type": "markdown",
      "metadata": {
        "id": "YNUUMXaNwnY4",
        "colab_type": "text"
      },
      "source": [
        "## 一番簡単な関数"
      ]
    },
    {
      "cell_type": "code",
      "metadata": {
        "id": "1ew9OyELwnY4",
        "colab_type": "code",
        "colab": {}
      },
      "source": [
        "# define:定義する\n",
        "def say_hello():\n",
        "    print('こんにちは、キカガクさん')\n",
        "    print('ご機嫌いかがですか。')"
      ],
      "execution_count": 0,
      "outputs": []
    },
    {
      "cell_type": "code",
      "metadata": {
        "id": "DM59Mn82wnY5",
        "colab_type": "code",
        "colab": {},
        "outputId": "76988d68-0a8f-423c-d00e-f36436264c86"
      },
      "source": [
        "say_hello()"
      ],
      "execution_count": 0,
      "outputs": [
        {
          "output_type": "stream",
          "text": [
            "こんにちは、キカガクさん\n",
            "ご機嫌いかがですか。\n"
          ],
          "name": "stdout"
        }
      ]
    },
    {
      "cell_type": "markdown",
      "metadata": {
        "id": "3x3tALtXwnY7",
        "colab_type": "text"
      },
      "source": [
        "## 入力(引数)のある関数"
      ]
    },
    {
      "cell_type": "code",
      "metadata": {
        "id": "5FlwNewHwnY7",
        "colab_type": "code",
        "colab": {}
      },
      "source": [
        "#name:引数\n",
        "def say_hello2(name):\n",
        "    print('こんにちは' + name + 'さん')\n",
        "    print('ご機嫌いかがですか。')"
      ],
      "execution_count": 0,
      "outputs": []
    },
    {
      "cell_type": "code",
      "metadata": {
        "id": "gz34hK75wnY9",
        "colab_type": "code",
        "colab": {},
        "outputId": "9cc41f63-d15b-44d0-ecc5-87ecb30cf0f0"
      },
      "source": [
        "#使う\n",
        "say_hello2(\"株式会社キカガク\")"
      ],
      "execution_count": 0,
      "outputs": [
        {
          "output_type": "stream",
          "text": [
            "こんにちは株式会社キカガクさん\n",
            "ご機嫌いかがですか。\n"
          ],
          "name": "stdout"
        }
      ]
    },
    {
      "cell_type": "markdown",
      "metadata": {
        "id": "VFk2aNaGwnY-",
        "colab_type": "text"
      },
      "source": [
        "## 出力(返り値)のある関数"
      ]
    },
    {
      "cell_type": "code",
      "metadata": {
        "id": "5eMbHTDiwnY-",
        "colab_type": "code",
        "colab": {}
      },
      "source": [
        "def add(a, b, c):\n",
        "    return a + b + c"
      ],
      "execution_count": 0,
      "outputs": []
    },
    {
      "cell_type": "code",
      "metadata": {
        "id": "7FVcLfygwnZA",
        "colab_type": "code",
        "colab": {}
      },
      "source": [
        "result = add(3, 5, 10)"
      ],
      "execution_count": 0,
      "outputs": []
    },
    {
      "cell_type": "code",
      "metadata": {
        "id": "j614dVL4wnZB",
        "colab_type": "code",
        "colab": {},
        "outputId": "b86ff5bd-b2e2-40df-e97e-14ecd2ea1456"
      },
      "source": [
        "result"
      ],
      "execution_count": 0,
      "outputs": [
        {
          "output_type": "execute_result",
          "data": {
            "text/plain": [
              "18"
            ]
          },
          "metadata": {
            "tags": []
          },
          "execution_count": 72
        }
      ]
    },
    {
      "cell_type": "markdown",
      "metadata": {
        "id": "56Ae6XmKwnZC",
        "colab_type": "text"
      },
      "source": [
        "## 実践課題\n",
        "絶対値を返す関数 absを作ってください。\n",
        "\n",
        "出力のイメージ\n",
        "\n",
        "-abs(-1) ->1\n",
        "-abs(-5.2) ->5.2\n",
        "-abs(3 -> 3"
      ]
    },
    {
      "cell_type": "code",
      "metadata": {
        "id": "CtyNmc9NwnZC",
        "colab_type": "code",
        "colab": {}
      },
      "source": [
        "def abs(num):\n",
        "    if num < 0:\n",
        "        return -1*num\n",
        "    else:\n",
        "        return num"
      ],
      "execution_count": 0,
      "outputs": []
    },
    {
      "cell_type": "code",
      "metadata": {
        "id": "baXKiZtFwnZE",
        "colab_type": "code",
        "colab": {},
        "outputId": "2ba13cfc-f7a3-48d6-8bed-3b0b3352e3f1"
      },
      "source": [
        "abs(-19)"
      ],
      "execution_count": 0,
      "outputs": [
        {
          "output_type": "execute_result",
          "data": {
            "text/plain": [
              "19"
            ]
          },
          "metadata": {
            "tags": []
          },
          "execution_count": 77
        }
      ]
    },
    {
      "cell_type": "code",
      "metadata": {
        "id": "EeV489PfwnZF",
        "colab_type": "code",
        "colab": {},
        "outputId": "a6117596-e8d6-462c-f84e-bb23cd337591"
      },
      "source": [
        "abs(99)"
      ],
      "execution_count": 0,
      "outputs": [
        {
          "output_type": "execute_result",
          "data": {
            "text/plain": [
              "99"
            ]
          },
          "metadata": {
            "tags": []
          },
          "execution_count": 78
        }
      ]
    },
    {
      "cell_type": "code",
      "metadata": {
        "id": "fhDo2snGwnZG",
        "colab_type": "code",
        "colab": {},
        "outputId": "a00003b7-bc36-47b8-9189-3c89c90b0b7a"
      },
      "source": [
        "abs(-123)"
      ],
      "execution_count": 0,
      "outputs": [
        {
          "output_type": "execute_result",
          "data": {
            "text/plain": [
              "123"
            ]
          },
          "metadata": {
            "tags": []
          },
          "execution_count": 79
        }
      ]
    },
    {
      "cell_type": "markdown",
      "metadata": {
        "id": "rFDAeJt-wnZH",
        "colab_type": "text"
      },
      "source": [
        "## Numpy:数値計算"
      ]
    },
    {
      "cell_type": "code",
      "metadata": {
        "id": "WREmbno7wnZH",
        "colab_type": "code",
        "colab": {}
      },
      "source": [
        "import numpy as np"
      ],
      "execution_count": 0,
      "outputs": []
    },
    {
      "cell_type": "code",
      "metadata": {
        "id": "108-zEfjwnZI",
        "colab_type": "code",
        "colab": {}
      },
      "source": [
        "#ベクトルの定義\n",
        "x = np.array([1, 2, 3])"
      ],
      "execution_count": 0,
      "outputs": []
    },
    {
      "cell_type": "code",
      "metadata": {
        "id": "d3ZngWzawnZJ",
        "colab_type": "code",
        "colab": {},
        "outputId": "3ce5e9e6-f5a5-4725-c6a7-b470ce3b2d10"
      },
      "source": [
        "x"
      ],
      "execution_count": 0,
      "outputs": [
        {
          "output_type": "execute_result",
          "data": {
            "text/plain": [
              "array([1, 2, 3])"
            ]
          },
          "metadata": {
            "tags": []
          },
          "execution_count": 84
        }
      ]
    },
    {
      "cell_type": "code",
      "metadata": {
        "id": "VV0Z-FsEwnZM",
        "colab_type": "code",
        "colab": {}
      },
      "source": [
        "y = np.array([2, 3.9, 6.1])"
      ],
      "execution_count": 0,
      "outputs": []
    },
    {
      "cell_type": "code",
      "metadata": {
        "id": "IxrXAal6wnZN",
        "colab_type": "code",
        "colab": {},
        "outputId": "5c26fdf0-2abe-40c7-9afd-f25fc85842a0"
      },
      "source": [
        "y"
      ],
      "execution_count": 0,
      "outputs": [
        {
          "output_type": "execute_result",
          "data": {
            "text/plain": [
              "array([2. , 3.9, 6.1])"
            ]
          },
          "metadata": {
            "tags": []
          },
          "execution_count": 88
        }
      ]
    },
    {
      "cell_type": "markdown",
      "metadata": {
        "id": "C73pkXgFwnZO",
        "colab_type": "text"
      },
      "source": [
        "## データの中心化"
      ]
    },
    {
      "cell_type": "code",
      "metadata": {
        "id": "_VkhEQKJwnZO",
        "colab_type": "code",
        "colab": {},
        "outputId": "9439f7ac-0dcb-4c15-9945-d432cd3f25c3"
      },
      "source": [
        "#平均の算出\n",
        "x.mean()"
      ],
      "execution_count": 0,
      "outputs": [
        {
          "output_type": "execute_result",
          "data": {
            "text/plain": [
              "2.0"
            ]
          },
          "metadata": {
            "tags": []
          },
          "execution_count": 90
        }
      ]
    },
    {
      "cell_type": "code",
      "metadata": {
        "id": "-dsivmKhwnZP",
        "colab_type": "code",
        "colab": {},
        "outputId": "3e456846-f847-4399-ae65-7617f450f22f"
      },
      "source": [
        "y.mean()"
      ],
      "execution_count": 0,
      "outputs": [
        {
          "output_type": "execute_result",
          "data": {
            "text/plain": [
              "4.0"
            ]
          },
          "metadata": {
            "tags": []
          },
          "execution_count": 91
        }
      ]
    },
    {
      "cell_type": "code",
      "metadata": {
        "id": "qDs-qEziwnZS",
        "colab_type": "code",
        "colab": {}
      },
      "source": [
        "#中心化\n",
        "xc = x - x.mean()"
      ],
      "execution_count": 0,
      "outputs": []
    },
    {
      "cell_type": "code",
      "metadata": {
        "id": "TfaWq_IFwnZT",
        "colab_type": "code",
        "colab": {},
        "outputId": "a0645d05-9b46-42e8-eb9e-63b9168c624c"
      },
      "source": [
        "xc"
      ],
      "execution_count": 0,
      "outputs": [
        {
          "output_type": "execute_result",
          "data": {
            "text/plain": [
              "array([-1.,  0.,  1.])"
            ]
          },
          "metadata": {
            "tags": []
          },
          "execution_count": 93
        }
      ]
    },
    {
      "cell_type": "code",
      "metadata": {
        "id": "877m8gZ5wnZU",
        "colab_type": "code",
        "colab": {}
      },
      "source": [
        "yc = y - y.mean()"
      ],
      "execution_count": 0,
      "outputs": []
    },
    {
      "cell_type": "code",
      "metadata": {
        "id": "2mwpmCoownZV",
        "colab_type": "code",
        "colab": {},
        "outputId": "b4827f23-6f17-4612-e52f-0f6365087ede"
      },
      "source": [
        "yc"
      ],
      "execution_count": 0,
      "outputs": [
        {
          "output_type": "execute_result",
          "data": {
            "text/plain": [
              "array([-2. , -0.1,  2.1])"
            ]
          },
          "metadata": {
            "tags": []
          },
          "execution_count": 95
        }
      ]
    },
    {
      "cell_type": "markdown",
      "metadata": {
        "id": "s78ULVJswnZX",
        "colab_type": "text"
      },
      "source": [
        "## パラメータaの計算"
      ]
    },
    {
      "cell_type": "code",
      "metadata": {
        "id": "Z-L5K9cbwnZX",
        "colab_type": "code",
        "colab": {}
      },
      "source": [
        "#要素ごとの掛け算(要素積)\n",
        "xx =xc * xc"
      ],
      "execution_count": 0,
      "outputs": []
    },
    {
      "cell_type": "code",
      "metadata": {
        "id": "bpbjm8rDwnZZ",
        "colab_type": "code",
        "colab": {},
        "outputId": "8a97ed61-2705-47f3-f6d8-9fa36a77761c"
      },
      "source": [
        "xx"
      ],
      "execution_count": 0,
      "outputs": [
        {
          "output_type": "execute_result",
          "data": {
            "text/plain": [
              "array([1., 0., 1.])"
            ]
          },
          "metadata": {
            "tags": []
          },
          "execution_count": 102
        }
      ]
    },
    {
      "cell_type": "code",
      "metadata": {
        "id": "Y5esW4DxwnZa",
        "colab_type": "code",
        "colab": {},
        "outputId": "b70f91ea-57bb-4414-e54d-91332e20b62d"
      },
      "source": [
        "xc"
      ],
      "execution_count": 0,
      "outputs": [
        {
          "output_type": "execute_result",
          "data": {
            "text/plain": [
              "array([-1.,  0.,  1.])"
            ]
          },
          "metadata": {
            "tags": []
          },
          "execution_count": 104
        }
      ]
    },
    {
      "cell_type": "code",
      "metadata": {
        "id": "G_eRBgJmwnZb",
        "colab_type": "code",
        "colab": {}
      },
      "source": [
        "xy = xc * yc"
      ],
      "execution_count": 0,
      "outputs": []
    },
    {
      "cell_type": "code",
      "metadata": {
        "id": "qir82pWbwnZd",
        "colab_type": "code",
        "colab": {},
        "outputId": "b9f188c9-7a03-497d-956f-aefeea53bde9"
      },
      "source": [
        "xx.sum()"
      ],
      "execution_count": 0,
      "outputs": [
        {
          "output_type": "execute_result",
          "data": {
            "text/plain": [
              "2.0"
            ]
          },
          "metadata": {
            "tags": []
          },
          "execution_count": 108
        }
      ]
    },
    {
      "cell_type": "code",
      "metadata": {
        "id": "jYt-cis_wnZe",
        "colab_type": "code",
        "colab": {},
        "outputId": "f490cbef-e6b5-4ecf-f0a1-b09bcd68a4e0"
      },
      "source": [
        "xy.sum()"
      ],
      "execution_count": 0,
      "outputs": [
        {
          "output_type": "execute_result",
          "data": {
            "text/plain": [
              "4.1"
            ]
          },
          "metadata": {
            "tags": []
          },
          "execution_count": 109
        }
      ]
    },
    {
      "cell_type": "code",
      "metadata": {
        "id": "3meket9dwnZf",
        "colab_type": "code",
        "colab": {}
      },
      "source": [
        "a = xy.sum() / xx.sum()"
      ],
      "execution_count": 0,
      "outputs": []
    },
    {
      "cell_type": "code",
      "metadata": {
        "id": "Xs129AvUwnZg",
        "colab_type": "code",
        "colab": {},
        "outputId": "a1acf00a-4b3d-4e7a-c650-50de9dfccb45"
      },
      "source": [
        "a"
      ],
      "execution_count": 0,
      "outputs": [
        {
          "output_type": "execute_result",
          "data": {
            "text/plain": [
              "2.05"
            ]
          },
          "metadata": {
            "tags": []
          },
          "execution_count": 111
        }
      ]
    },
    {
      "cell_type": "code",
      "metadata": {
        "id": "KcNN5TKLwnZi",
        "colab_type": "code",
        "colab": {},
        "outputId": "dec4f15b-6446-491f-e8a7-f9a1ad0bd97e"
      },
      "source": [
        "%pwd"
      ],
      "execution_count": 0,
      "outputs": [
        {
          "output_type": "execute_result",
          "data": {
            "text/plain": [
              "'C:\\\\Users\\\\hatec'"
            ]
          },
          "metadata": {
            "tags": []
          },
          "execution_count": 1
        }
      ]
    },
    {
      "cell_type": "code",
      "metadata": {
        "id": "UnXI5ccAwnZj",
        "colab_type": "code",
        "colab": {},
        "outputId": "80acb5b6-f763-4a53-bd17-595f4ba32ee1"
      },
      "source": [
        "%cd"
      ],
      "execution_count": 0,
      "outputs": [
        {
          "output_type": "stream",
          "text": [
            "C:\\Users\\hatec\n"
          ],
          "name": "stdout"
        }
      ]
    },
    {
      "cell_type": "code",
      "metadata": {
        "id": "vnHikty0wnZk",
        "colab_type": "code",
        "colab": {},
        "outputId": "f182a8fb-8a18-46f7-a617-70087147e7be"
      },
      "source": [
        "%pwd"
      ],
      "execution_count": 0,
      "outputs": [
        {
          "output_type": "execute_result",
          "data": {
            "text/plain": [
              "'C:\\\\Users\\\\hatec'"
            ]
          },
          "metadata": {
            "tags": []
          },
          "execution_count": 7
        }
      ]
    },
    {
      "cell_type": "code",
      "metadata": {
        "id": "fPtpwe-ZwnZl",
        "colab_type": "code",
        "colab": {}
      },
      "source": [
        "import pandas as pd"
      ],
      "execution_count": 0,
      "outputs": []
    },
    {
      "cell_type": "code",
      "metadata": {
        "id": "O6Xoe93wwnZm",
        "colab_type": "code",
        "colab": {},
        "outputId": "12bb43eb-c391-4997-9343-35e1b6b3a560"
      },
      "source": [
        "df = pd.read_csv('original.csv')\n",
        "df"
      ],
      "execution_count": 0,
      "outputs": [
        {
          "output_type": "execute_result",
          "data": {
            "text/html": [
              "<div>\n",
              "<style scoped>\n",
              "    .dataframe tbody tr th:only-of-type {\n",
              "        vertical-align: middle;\n",
              "    }\n",
              "\n",
              "    .dataframe tbody tr th {\n",
              "        vertical-align: top;\n",
              "    }\n",
              "\n",
              "    .dataframe thead th {\n",
              "        text-align: right;\n",
              "    }\n",
              "</style>\n",
              "<table border=\"1\" class=\"dataframe\">\n",
              "  <thead>\n",
              "    <tr style=\"text-align: right;\">\n",
              "      <th></th>\n",
              "      <th>x</th>\n",
              "      <th>y</th>\n",
              "    </tr>\n",
              "  </thead>\n",
              "  <tbody>\n",
              "    <tr>\n",
              "      <th>0</th>\n",
              "      <td>40.362</td>\n",
              "      <td>137500.0</td>\n",
              "    </tr>\n",
              "    <tr>\n",
              "      <th>1</th>\n",
              "      <td>40.686</td>\n",
              "      <td>132500.0</td>\n",
              "    </tr>\n",
              "    <tr>\n",
              "      <th>2</th>\n",
              "      <td>38.430</td>\n",
              "      <td>93000.0</td>\n",
              "    </tr>\n",
              "    <tr>\n",
              "      <th>3</th>\n",
              "      <td>36.822</td>\n",
              "      <td>96500.0</td>\n",
              "    </tr>\n",
              "    <tr>\n",
              "      <th>4</th>\n",
              "      <td>37.002</td>\n",
              "      <td>100500.0</td>\n",
              "    </tr>\n",
              "    <tr>\n",
              "      <th>5</th>\n",
              "      <td>35.106</td>\n",
              "      <td>97500.0</td>\n",
              "    </tr>\n",
              "    <tr>\n",
              "      <th>6</th>\n",
              "      <td>35.016</td>\n",
              "      <td>97500.0</td>\n",
              "    </tr>\n",
              "    <tr>\n",
              "      <th>7</th>\n",
              "      <td>36.762</td>\n",
              "      <td>102000.0</td>\n",
              "    </tr>\n",
              "    <tr>\n",
              "      <th>8</th>\n",
              "      <td>38.844</td>\n",
              "      <td>99000.0</td>\n",
              "    </tr>\n",
              "    <tr>\n",
              "      <th>9</th>\n",
              "      <td>37.374</td>\n",
              "      <td>97000.0</td>\n",
              "    </tr>\n",
              "    <tr>\n",
              "      <th>10</th>\n",
              "      <td>37.170</td>\n",
              "      <td>108500.0</td>\n",
              "    </tr>\n",
              "    <tr>\n",
              "      <th>11</th>\n",
              "      <td>40.290</td>\n",
              "      <td>114000.0</td>\n",
              "    </tr>\n",
              "    <tr>\n",
              "      <th>12</th>\n",
              "      <td>35.478</td>\n",
              "      <td>94000.0</td>\n",
              "    </tr>\n",
              "    <tr>\n",
              "      <th>13</th>\n",
              "      <td>36.552</td>\n",
              "      <td>93500.0</td>\n",
              "    </tr>\n",
              "    <tr>\n",
              "      <th>14</th>\n",
              "      <td>37.524</td>\n",
              "      <td>92500.0</td>\n",
              "    </tr>\n",
              "    <tr>\n",
              "      <th>15</th>\n",
              "      <td>35.568</td>\n",
              "      <td>91500.0</td>\n",
              "    </tr>\n",
              "    <tr>\n",
              "      <th>16</th>\n",
              "      <td>37.056</td>\n",
              "      <td>106000.0</td>\n",
              "    </tr>\n",
              "    <tr>\n",
              "      <th>17</th>\n",
              "      <td>36.126</td>\n",
              "      <td>96000.0</td>\n",
              "    </tr>\n",
              "    <tr>\n",
              "      <th>18</th>\n",
              "      <td>35.232</td>\n",
              "      <td>102000.0</td>\n",
              "    </tr>\n",
              "    <tr>\n",
              "      <th>19</th>\n",
              "      <td>34.386</td>\n",
              "      <td>96500.0</td>\n",
              "    </tr>\n",
              "    <tr>\n",
              "      <th>20</th>\n",
              "      <td>35.220</td>\n",
              "      <td>110000.0</td>\n",
              "    </tr>\n",
              "    <tr>\n",
              "      <th>21</th>\n",
              "      <td>36.024</td>\n",
              "      <td>101500.0</td>\n",
              "    </tr>\n",
              "    <tr>\n",
              "      <th>22</th>\n",
              "      <td>35.766</td>\n",
              "      <td>102500.0</td>\n",
              "    </tr>\n",
              "    <tr>\n",
              "      <th>23</th>\n",
              "      <td>35.136</td>\n",
              "      <td>86500.0</td>\n",
              "    </tr>\n",
              "    <tr>\n",
              "      <th>24</th>\n",
              "      <td>35.274</td>\n",
              "      <td>94000.0</td>\n",
              "    </tr>\n",
              "    <tr>\n",
              "      <th>25</th>\n",
              "      <td>35.916</td>\n",
              "      <td>107000.0</td>\n",
              "    </tr>\n",
              "    <tr>\n",
              "      <th>26</th>\n",
              "      <td>33.678</td>\n",
              "      <td>78500.0</td>\n",
              "    </tr>\n",
              "    <tr>\n",
              "      <th>27</th>\n",
              "      <td>34.158</td>\n",
              "      <td>81000.0</td>\n",
              "    </tr>\n",
              "    <tr>\n",
              "      <th>28</th>\n",
              "      <td>38.586</td>\n",
              "      <td>90000.0</td>\n",
              "    </tr>\n",
              "    <tr>\n",
              "      <th>29</th>\n",
              "      <td>33.822</td>\n",
              "      <td>71500.0</td>\n",
              "    </tr>\n",
              "    <tr>\n",
              "      <th>...</th>\n",
              "      <td>...</td>\n",
              "      <td>...</td>\n",
              "    </tr>\n",
              "    <tr>\n",
              "      <th>70</th>\n",
              "      <td>35.250</td>\n",
              "      <td>87000.0</td>\n",
              "    </tr>\n",
              "    <tr>\n",
              "      <th>71</th>\n",
              "      <td>35.280</td>\n",
              "      <td>95500.0</td>\n",
              "    </tr>\n",
              "    <tr>\n",
              "      <th>72</th>\n",
              "      <td>33.432</td>\n",
              "      <td>115500.0</td>\n",
              "    </tr>\n",
              "    <tr>\n",
              "      <th>73</th>\n",
              "      <td>38.496</td>\n",
              "      <td>118000.0</td>\n",
              "    </tr>\n",
              "    <tr>\n",
              "      <th>74</th>\n",
              "      <td>35.154</td>\n",
              "      <td>113000.0</td>\n",
              "    </tr>\n",
              "    <tr>\n",
              "      <th>75</th>\n",
              "      <td>39.276</td>\n",
              "      <td>147000.0</td>\n",
              "    </tr>\n",
              "    <tr>\n",
              "      <th>76</th>\n",
              "      <td>36.120</td>\n",
              "      <td>116000.0</td>\n",
              "    </tr>\n",
              "    <tr>\n",
              "      <th>77</th>\n",
              "      <td>37.890</td>\n",
              "      <td>123000.0</td>\n",
              "    </tr>\n",
              "    <tr>\n",
              "      <th>78</th>\n",
              "      <td>41.160</td>\n",
              "      <td>149500.0</td>\n",
              "    </tr>\n",
              "    <tr>\n",
              "      <th>79</th>\n",
              "      <td>41.880</td>\n",
              "      <td>186000.0</td>\n",
              "    </tr>\n",
              "    <tr>\n",
              "      <th>80</th>\n",
              "      <td>46.590</td>\n",
              "      <td>199000.0</td>\n",
              "    </tr>\n",
              "    <tr>\n",
              "      <th>81</th>\n",
              "      <td>36.864</td>\n",
              "      <td>181000.0</td>\n",
              "    </tr>\n",
              "    <tr>\n",
              "      <th>82</th>\n",
              "      <td>42.930</td>\n",
              "      <td>189500.0</td>\n",
              "    </tr>\n",
              "    <tr>\n",
              "      <th>83</th>\n",
              "      <td>39.378</td>\n",
              "      <td>162500.0</td>\n",
              "    </tr>\n",
              "    <tr>\n",
              "      <th>84</th>\n",
              "      <td>33.624</td>\n",
              "      <td>132000.0</td>\n",
              "    </tr>\n",
              "    <tr>\n",
              "      <th>85</th>\n",
              "      <td>36.918</td>\n",
              "      <td>148000.0</td>\n",
              "    </tr>\n",
              "    <tr>\n",
              "      <th>86</th>\n",
              "      <td>46.986</td>\n",
              "      <td>250000.0</td>\n",
              "    </tr>\n",
              "    <tr>\n",
              "      <th>87</th>\n",
              "      <td>40.692</td>\n",
              "      <td>160000.0</td>\n",
              "    </tr>\n",
              "    <tr>\n",
              "      <th>88</th>\n",
              "      <td>39.336</td>\n",
              "      <td>149000.0</td>\n",
              "    </tr>\n",
              "    <tr>\n",
              "      <th>89</th>\n",
              "      <td>43.110</td>\n",
              "      <td>174500.0</td>\n",
              "    </tr>\n",
              "    <tr>\n",
              "      <th>90</th>\n",
              "      <td>41.706</td>\n",
              "      <td>185000.0</td>\n",
              "    </tr>\n",
              "    <tr>\n",
              "      <th>91</th>\n",
              "      <td>40.434</td>\n",
              "      <td>152500.0</td>\n",
              "    </tr>\n",
              "    <tr>\n",
              "      <th>92</th>\n",
              "      <td>43.068</td>\n",
              "      <td>182000.0</td>\n",
              "    </tr>\n",
              "    <tr>\n",
              "      <th>93</th>\n",
              "      <td>40.800</td>\n",
              "      <td>155500.0</td>\n",
              "    </tr>\n",
              "    <tr>\n",
              "      <th>94</th>\n",
              "      <td>39.624</td>\n",
              "      <td>145500.0</td>\n",
              "    </tr>\n",
              "    <tr>\n",
              "      <th>95</th>\n",
              "      <td>47.250</td>\n",
              "      <td>250000.0</td>\n",
              "    </tr>\n",
              "    <tr>\n",
              "      <th>96</th>\n",
              "      <td>43.722</td>\n",
              "      <td>166500.0</td>\n",
              "    </tr>\n",
              "    <tr>\n",
              "      <th>97</th>\n",
              "      <td>42.642</td>\n",
              "      <td>151500.0</td>\n",
              "    </tr>\n",
              "    <tr>\n",
              "      <th>98</th>\n",
              "      <td>43.644</td>\n",
              "      <td>173000.0</td>\n",
              "    </tr>\n",
              "    <tr>\n",
              "      <th>99</th>\n",
              "      <td>41.850</td>\n",
              "      <td>174500.0</td>\n",
              "    </tr>\n",
              "  </tbody>\n",
              "</table>\n",
              "<p>100 rows × 2 columns</p>\n",
              "</div>"
            ],
            "text/plain": [
              "         x         y\n",
              "0   40.362  137500.0\n",
              "1   40.686  132500.0\n",
              "2   38.430   93000.0\n",
              "3   36.822   96500.0\n",
              "4   37.002  100500.0\n",
              "5   35.106   97500.0\n",
              "6   35.016   97500.0\n",
              "7   36.762  102000.0\n",
              "8   38.844   99000.0\n",
              "9   37.374   97000.0\n",
              "10  37.170  108500.0\n",
              "11  40.290  114000.0\n",
              "12  35.478   94000.0\n",
              "13  36.552   93500.0\n",
              "14  37.524   92500.0\n",
              "15  35.568   91500.0\n",
              "16  37.056  106000.0\n",
              "17  36.126   96000.0\n",
              "18  35.232  102000.0\n",
              "19  34.386   96500.0\n",
              "20  35.220  110000.0\n",
              "21  36.024  101500.0\n",
              "22  35.766  102500.0\n",
              "23  35.136   86500.0\n",
              "24  35.274   94000.0\n",
              "25  35.916  107000.0\n",
              "26  33.678   78500.0\n",
              "27  34.158   81000.0\n",
              "28  38.586   90000.0\n",
              "29  33.822   71500.0\n",
              "..     ...       ...\n",
              "70  35.250   87000.0\n",
              "71  35.280   95500.0\n",
              "72  33.432  115500.0\n",
              "73  38.496  118000.0\n",
              "74  35.154  113000.0\n",
              "75  39.276  147000.0\n",
              "76  36.120  116000.0\n",
              "77  37.890  123000.0\n",
              "78  41.160  149500.0\n",
              "79  41.880  186000.0\n",
              "80  46.590  199000.0\n",
              "81  36.864  181000.0\n",
              "82  42.930  189500.0\n",
              "83  39.378  162500.0\n",
              "84  33.624  132000.0\n",
              "85  36.918  148000.0\n",
              "86  46.986  250000.0\n",
              "87  40.692  160000.0\n",
              "88  39.336  149000.0\n",
              "89  43.110  174500.0\n",
              "90  41.706  185000.0\n",
              "91  40.434  152500.0\n",
              "92  43.068  182000.0\n",
              "93  40.800  155500.0\n",
              "94  39.624  145500.0\n",
              "95  47.250  250000.0\n",
              "96  43.722  166500.0\n",
              "97  42.642  151500.0\n",
              "98  43.644  173000.0\n",
              "99  41.850  174500.0\n",
              "\n",
              "[100 rows x 2 columns]"
            ]
          },
          "metadata": {
            "tags": []
          },
          "execution_count": 27
        }
      ]
    },
    {
      "cell_type": "code",
      "metadata": {
        "id": "QB7Qfs45wnZn",
        "colab_type": "code",
        "colab": {},
        "outputId": "c6a784c5-03fd-44ad-9632-a632a6a51e77"
      },
      "source": [
        "df.head(3)"
      ],
      "execution_count": 0,
      "outputs": [
        {
          "output_type": "execute_result",
          "data": {
            "text/html": [
              "<div>\n",
              "<style scoped>\n",
              "    .dataframe tbody tr th:only-of-type {\n",
              "        vertical-align: middle;\n",
              "    }\n",
              "\n",
              "    .dataframe tbody tr th {\n",
              "        vertical-align: top;\n",
              "    }\n",
              "\n",
              "    .dataframe thead th {\n",
              "        text-align: right;\n",
              "    }\n",
              "</style>\n",
              "<table border=\"1\" class=\"dataframe\">\n",
              "  <thead>\n",
              "    <tr style=\"text-align: right;\">\n",
              "      <th></th>\n",
              "      <th>x</th>\n",
              "      <th>y</th>\n",
              "    </tr>\n",
              "  </thead>\n",
              "  <tbody>\n",
              "    <tr>\n",
              "      <th>0</th>\n",
              "      <td>40.362</td>\n",
              "      <td>137500.0</td>\n",
              "    </tr>\n",
              "    <tr>\n",
              "      <th>1</th>\n",
              "      <td>40.686</td>\n",
              "      <td>132500.0</td>\n",
              "    </tr>\n",
              "    <tr>\n",
              "      <th>2</th>\n",
              "      <td>38.430</td>\n",
              "      <td>93000.0</td>\n",
              "    </tr>\n",
              "  </tbody>\n",
              "</table>\n",
              "</div>"
            ],
            "text/plain": [
              "        x         y\n",
              "0  40.362  137500.0\n",
              "1  40.686  132500.0\n",
              "2  38.430   93000.0"
            ]
          },
          "metadata": {
            "tags": []
          },
          "execution_count": 13
        }
      ]
    },
    {
      "cell_type": "code",
      "metadata": {
        "id": "ILqnKrb-wnZo",
        "colab_type": "code",
        "colab": {}
      },
      "source": [
        "#データの抽出\n",
        "x = df['x']\n",
        "y = df['y']"
      ],
      "execution_count": 0,
      "outputs": []
    },
    {
      "cell_type": "code",
      "metadata": {
        "id": "cNC1tFIWwnZp",
        "colab_type": "code",
        "colab": {},
        "outputId": "3587ba2c-2d16-453f-a24f-ef58db1f8cc9"
      },
      "source": [
        "x"
      ],
      "execution_count": 0,
      "outputs": [
        {
          "output_type": "execute_result",
          "data": {
            "text/plain": [
              "0     40.362\n",
              "1     40.686\n",
              "2     38.430\n",
              "3     36.822\n",
              "4     37.002\n",
              "5     35.106\n",
              "6     35.016\n",
              "7     36.762\n",
              "8     38.844\n",
              "9     37.374\n",
              "10    37.170\n",
              "11    40.290\n",
              "12    35.478\n",
              "13    36.552\n",
              "14    37.524\n",
              "15    35.568\n",
              "16    37.056\n",
              "17    36.126\n",
              "18    35.232\n",
              "19    34.386\n",
              "20    35.220\n",
              "21    36.024\n",
              "22    35.766\n",
              "23    35.136\n",
              "24    35.274\n",
              "25    35.916\n",
              "26    33.678\n",
              "27    34.158\n",
              "28    38.586\n",
              "29    33.822\n",
              "       ...  \n",
              "70    35.250\n",
              "71    35.280\n",
              "72    33.432\n",
              "73    38.496\n",
              "74    35.154\n",
              "75    39.276\n",
              "76    36.120\n",
              "77    37.890\n",
              "78    41.160\n",
              "79    41.880\n",
              "80    46.590\n",
              "81    36.864\n",
              "82    42.930\n",
              "83    39.378\n",
              "84    33.624\n",
              "85    36.918\n",
              "86    46.986\n",
              "87    40.692\n",
              "88    39.336\n",
              "89    43.110\n",
              "90    41.706\n",
              "91    40.434\n",
              "92    43.068\n",
              "93    40.800\n",
              "94    39.624\n",
              "95    47.250\n",
              "96    43.722\n",
              "97    42.642\n",
              "98    43.644\n",
              "99    41.850\n",
              "Name: x, Length: 100, dtype: float64"
            ]
          },
          "metadata": {
            "tags": []
          },
          "execution_count": 21
        }
      ]
    },
    {
      "cell_type": "code",
      "metadata": {
        "id": "2LDed1rMwnZq",
        "colab_type": "code",
        "colab": {},
        "outputId": "4c50a91d-f306-4a16-faf2-6d09e182f45a"
      },
      "source": [
        "y"
      ],
      "execution_count": 0,
      "outputs": [
        {
          "output_type": "execute_result",
          "data": {
            "text/plain": [
              "0     137500.0\n",
              "1     132500.0\n",
              "2      93000.0\n",
              "3      96500.0\n",
              "4     100500.0\n",
              "5      97500.0\n",
              "6      97500.0\n",
              "7     102000.0\n",
              "8      99000.0\n",
              "9      97000.0\n",
              "10    108500.0\n",
              "11    114000.0\n",
              "12     94000.0\n",
              "13     93500.0\n",
              "14     92500.0\n",
              "15     91500.0\n",
              "16    106000.0\n",
              "17     96000.0\n",
              "18    102000.0\n",
              "19     96500.0\n",
              "20    110000.0\n",
              "21    101500.0\n",
              "22    102500.0\n",
              "23     86500.0\n",
              "24     94000.0\n",
              "25    107000.0\n",
              "26     78500.0\n",
              "27     81000.0\n",
              "28     90000.0\n",
              "29     71500.0\n",
              "        ...   \n",
              "70     87000.0\n",
              "71     95500.0\n",
              "72    115500.0\n",
              "73    118000.0\n",
              "74    113000.0\n",
              "75    147000.0\n",
              "76    116000.0\n",
              "77    123000.0\n",
              "78    149500.0\n",
              "79    186000.0\n",
              "80    199000.0\n",
              "81    181000.0\n",
              "82    189500.0\n",
              "83    162500.0\n",
              "84    132000.0\n",
              "85    148000.0\n",
              "86    250000.0\n",
              "87    160000.0\n",
              "88    149000.0\n",
              "89    174500.0\n",
              "90    185000.0\n",
              "91    152500.0\n",
              "92    182000.0\n",
              "93    155500.0\n",
              "94    145500.0\n",
              "95    250000.0\n",
              "96    166500.0\n",
              "97    151500.0\n",
              "98    173000.0\n",
              "99    174500.0\n",
              "Name: y, Length: 100, dtype: float64"
            ]
          },
          "metadata": {
            "tags": []
          },
          "execution_count": 22
        }
      ]
    },
    {
      "cell_type": "markdown",
      "metadata": {
        "id": "t4mnUkS1wnZr",
        "colab_type": "text"
      },
      "source": [
        "# Matplotlib:グラフの描画"
      ]
    },
    {
      "cell_type": "code",
      "metadata": {
        "id": "vpJ4gxtAwnZr",
        "colab_type": "code",
        "colab": {}
      },
      "source": [
        "import matplotlib.pyplot as plt"
      ],
      "execution_count": 0,
      "outputs": []
    },
    {
      "cell_type": "code",
      "metadata": {
        "id": "8joTgCoownZt",
        "colab_type": "code",
        "colab": {
          "base_uri": "https://localhost:8080/",
          "height": 191
        },
        "outputId": "84395d48-0b6e-4395-a033-a8c01be7cc18"
      },
      "source": [
        "#横軸をx,縦軸をyの散布図(scatter)をプロット\n",
        "plt.scattter(x, y)"
      ],
      "execution_count": 1,
      "outputs": [
        {
          "output_type": "error",
          "ename": "NameError",
          "evalue": "ignored",
          "traceback": [
            "\u001b[0;31m---------------------------------------------------------------------------\u001b[0m",
            "\u001b[0;31mNameError\u001b[0m                                 Traceback (most recent call last)",
            "\u001b[0;32m<ipython-input-1-8b5c6eeab613>\u001b[0m in \u001b[0;36m<module>\u001b[0;34m()\u001b[0m\n\u001b[1;32m      1\u001b[0m \u001b[0;31m#横軸をx,縦軸をyの散布図(scatter)をプロット\u001b[0m\u001b[0;34m\u001b[0m\u001b[0;34m\u001b[0m\u001b[0;34m\u001b[0m\u001b[0m\n\u001b[0;32m----> 2\u001b[0;31m \u001b[0mplt\u001b[0m\u001b[0;34m.\u001b[0m\u001b[0mscattter\u001b[0m\u001b[0;34m(\u001b[0m\u001b[0mx\u001b[0m\u001b[0;34m,\u001b[0m \u001b[0my\u001b[0m\u001b[0;34m)\u001b[0m\u001b[0;34m\u001b[0m\u001b[0;34m\u001b[0m\u001b[0m\n\u001b[0m",
            "\u001b[0;31mNameError\u001b[0m: name 'plt' is not defined"
          ]
        }
      ]
    },
    {
      "cell_type": "code",
      "metadata": {
        "id": "aTEEQHLVwnZu",
        "colab_type": "code",
        "colab": {}
      },
      "source": [
        ""
      ],
      "execution_count": 0,
      "outputs": []
    }
  ]
}