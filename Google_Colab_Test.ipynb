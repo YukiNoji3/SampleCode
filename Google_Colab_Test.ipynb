{
  "nbformat": 4,
  "nbformat_minor": 0,
  "metadata": {
    "colab": {
      "name": "Google Colab Test.ipynb",
      "provenance": [],
      "collapsed_sections": [],
      "authorship_tag": "ABX9TyO2eIsZT0HuQtF1ycMlQaop",
      "include_colab_link": true
    },
    "kernelspec": {
      "name": "python3",
      "display_name": "Python 3"
    }
  },
  "cells": [
    {
      "cell_type": "markdown",
      "metadata": {
        "id": "view-in-github",
        "colab_type": "text"
      },
      "source": [
        "<a href=\"https://colab.research.google.com/github/YukiNoji3/SampleCode/blob/master/Google_Colab_Test.ipynb\" target=\"_parent\"><img src=\"https://colab.research.google.com/assets/colab-badge.svg\" alt=\"Open In Colab\"/></a>"
      ]
    },
    {
      "cell_type": "code",
      "metadata": {
        "id": "MLi1ArLeBug3",
        "colab_type": "code",
        "outputId": "0ec84c93-34b1-4324-92c4-a6a1afc5d83c",
        "colab": {
          "base_uri": "https://localhost:8080/",
          "height": 34
        }
      },
      "source": [
        "print('Hello Google')"
      ],
      "execution_count": 0,
      "outputs": [
        {
          "output_type": "stream",
          "text": [
            "Hello Google\n"
          ],
          "name": "stdout"
        }
      ]
    },
    {
      "cell_type": "code",
      "metadata": {
        "colab_type": "code",
        "outputId": "1681f45a-60c5-45d0-eee1-37a482aa0779",
        "id": "gLhEmge8QYCE",
        "colab": {
          "base_uri": "https://localhost:8080/",
          "height": 35
        }
      },
      "source": [
        "dictionary = {}\n",
        "dictionary['その１'] = 1\n",
        "dictionary['その２'] = 2\n",
        "dictionary['その３'] = 3\n",
        "print(dictionary)"
      ],
      "execution_count": 0,
      "outputs": [
        {
          "output_type": "stream",
          "text": [
            "{'その１': 1, 'その２': 2, 'その３': 3}\n"
          ],
          "name": "stdout"
        }
      ]
    },
    {
      "cell_type": "code",
      "metadata": {
        "id": "Z8FBZVVxQo3R",
        "colab_type": "code",
        "outputId": "653426df-133e-4f98-f7d6-5fb24f194387",
        "colab": {
          "base_uri": "https://localhost:8080/",
          "height": 35
        }
      },
      "source": [
        "print(dictionary)"
      ],
      "execution_count": 0,
      "outputs": [
        {
          "output_type": "stream",
          "text": [
            "{'その１': 1, 'その２': 2, 'その３': 3}\n"
          ],
          "name": "stdout"
        }
      ]
    }
  ]
}